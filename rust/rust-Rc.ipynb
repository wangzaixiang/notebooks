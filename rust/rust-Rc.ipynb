{
 "cells": [
  {
   "metadata": {},
   "cell_type": "markdown",
   "source": [
    "本文将对 Rust 中的 Rc 进行分析，来理解 如下的概念：\n",
    "- Rc 的内存布局\n",
    "- Rc 的实现原理\n",
    "- Rust 是如何处理所有权和引用关系的\n",
    "\n",
    "使用 Rust 进行开发的时候，一般的，每个数据（或者称为对象、结构体）有且只有一个所有者，当所有者被释放的时候，数据也会被释放，从而实现了内存的自动管理而不至于出现内存泄漏。在其他地方需要访问这个数据的时候，我们可以通过引用来访问，通过从 owner 获得 &T 或者 &mut T 来访问数据。 Rust 有一套所有权和引用的规则，保证了数据的安全性。这些规则包括：\n",
    "- 一个数据只能有一个所有者\n",
    "- 引用的生命周期不能超过所有者的生命周期\n",
    "- 引用的可变性不能超过所有者的可变性\n",
    "- 当存在可变引用的时候，不允许有其他引用（类似于数据库的写操作需要一个互斥锁，而读操作则是共享锁）\n",
    "\n",
    "这套规则保证了数据的安全性，但是也带来了限制，你不能自由的访问数据：包括：\n",
    "- 数据生命周期很复杂，难以确定一个owner。\n",
    "- 数据需要在多个地方访问，包括读、写操作。这些操作具有独立性，无法预先确定。\n",
    "\n",
    "在这种情况下，你如果要和 所有权、只读借用、读写借用的规则进行斗争的话，会是一个非常困难且艰巨的任务，甚至在某些情况下，你可能会发现这是不可能的（生命周期的不确定性、读写路径的不确定性）。而这个时候，我们可以对比 python/java 等语言，这些语言提供了垃圾回收机制，可以让我们不用关心内存的释放，对象的引用可以随意的传递，可以在任何位置自由的读写对象的内容，这种方式是极度自由的，但是也会带来另外的一些问题：\n",
    "1. 依赖 GC 来释放内存，GC 会带来一定的性能损耗，以及对内存的使用效率降低（JVM 中的heap大部分时间都是垃圾，从而需要更多的运行内存）\n",
    "2. 读写操作可能会带来数据竞争，包括多线程安全的问题，或者Java中常见的一类异常：ConcurrentModificationException\n",
    "\n",
    "对比 Rust 和 Java 的内存管理，可以看到两者分别走了一个极端：\n",
    "- Rust 是极端的管控，涉及到数据的所有权，可读借用，读写借用以及其有效期的管控。这种极端的管控，确保了安全、高效的内存管理，但是失去了自由。\n",
    "- Java 是极端的自由，GC 管理内存，对象的引用可以随意传递，可以在任何位置自由的读写对象的内容。极端的自由，带来了性能损耗和数据竞争的问题，把这些问题交给了开发者来解决。\n",
    "\n",
    "所幸的是，Rust 可以通过库的方式，提供了 Rc 来解决这个问题，Rc 是一个类似于 Java 引用的概念，我们也可以象Java一样，在 heap 中分配一个对象，然后通过 Rc 来引用这个对象，并且可以任意的进行传递（暂不考虑多线程的问题，在多线程下，要使用Rc的一个变体 Arc），相当于每个 Rc 都获得了对象的一定的所有权，只有当所有的 Rc 都被释放的时候，对象才会被释放。这种方式，可以让我们在 Rust 中，也可以实现类似于 Java 的自由度。\n",
    "\n",
    "在这篇文章中，我们将对 Rc 进行分析，来理解 Rc 的内存布局、实现原理，以及 Rust 是如何处理所有权和引用关系的。同时，我们也可以理解强引用和弱引用的概念，以及如何在 Rust 中实现弱引用。"
   ],
   "id": "f6f49db9dd96060f"
  },
  {
   "metadata": {
    "ExecuteTime": {
     "end_time": "2024-05-18T10:19:00.705530Z",
     "start_time": "2024-05-18T10:18:59.690100Z"
    }
   },
   "cell_type": "code",
   "source": [
    "use std::rc::Rc;\n",
    "\n",
    "#[derive(Debug)]\n",
    "struct User {\n",
    "    name: String,\n",
    "    age: u32,\n",
    "}\n",
    "\n",
    "let user1 = Rc::new(User {\n",
    "    name: String::from(\"Alice\"),\n",
    "    age: 30\n",
    "});\n",
    "\n",
    "println!(\"name = {}\", user1.name);  // auto deref\n",
    "\n",
    "println!(\"ref count = {}\", Rc::strong_count(&user1));  // ref count = 1\n",
    "println!(\"weak ref count = {}\", Rc::weak_count(&user1));  // weak ref count = 0\n",
    "\n",
    "user1"
   ],
   "id": "770ded4431ecee33",
   "outputs": [
    {
     "name": "stdout",
     "output_type": "stream",
     "text": [
      "name = Alice\n",
      "ref count = 1\n",
      "weak ref count = 0\n"
     ]
    },
    {
     "data": {
      "text/plain": [
       "User { name: \"Alice\", age: 30 }"
      ]
     },
     "execution_count": 11,
     "metadata": {},
     "output_type": "execute_result"
    }
   ],
   "execution_count": 11
  },
  {
   "metadata": {},
   "cell_type": "code",
   "outputs": [],
   "execution_count": null,
   "source": "",
   "id": "97c1cc7e20153f67"
  }
 ],
 "metadata": {
  "kernelspec": {
   "display_name": "Rust",
   "language": "rust",
   "name": "rust"
  },
  "language_info": {
   "codemirror_mode": "rust",
   "file_extension": ".rs",
   "mimetype": "text/rust",
   "name": "Rust",
   "pygment_lexer": "rust",
   "version": ""
  }
 },
 "nbformat": 4,
 "nbformat_minor": 5
}
