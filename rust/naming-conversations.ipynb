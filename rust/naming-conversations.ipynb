{
 "cells": [
  {
   "metadata": {},
   "cell_type": "markdown",
   "source": [
    "# Rust 中的一些常见命名约定\n",
    "\n",
    "1. into_XXX() vs as_XXX() vs to_XXX()\n",
    "    - String::into_bytes(self) -> Vec<u8>  // 所有权转移\n",
    "    - String::as_bytes(&self) -> &[u8]     // 借用\n",
    "    - ToString::to_string(&self) -> String  // 所有权不转移，但返回值（而非引用）\n",
    "    - From::from(T) -> Self                 // 所有权转移\n",
    "    - Into::into(self) -> T                 // 所有权转移\n",
    "    - FromStr::from_str(&str) -> Result<Self, E> // 借用"
   ],
   "id": "e5cf0fc338e1d57e"
  },
  {
   "metadata": {},
   "cell_type": "code",
   "outputs": [],
   "execution_count": null,
   "source": "",
   "id": "6c69f7ed75adf366"
  }
 ],
 "metadata": {
  "kernelspec": {
   "display_name": "Rust",
   "language": "rust",
   "name": "rust"
  },
  "language_info": {
   "codemirror_mode": {
    "name": "ipython",
    "version": 2
   },
   "file_extension": ".py",
   "mimetype": "text/x-python",
   "name": "python",
   "nbconvert_exporter": "python",
   "pygments_lexer": "ipython2",
   "version": "2.7.6"
  }
 },
 "nbformat": 4,
 "nbformat_minor": 5
}
