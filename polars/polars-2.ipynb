{
 "cells": [
  {
   "cell_type": "code",
   "id": "initial_id",
   "metadata": {
    "collapsed": true,
    "ExecuteTime": {
     "end_time": "2024-08-21T07:37:20.293922Z",
     "start_time": "2024-08-21T07:37:20.288945Z"
    }
   },
   "source": [
    "import polars as pl\n",
    "import numpy as np\n",
    "\n",
    "# sale_item_id, sale_order_id, product_id, quantity, price, amount\n",
    "sale_items = pl.scan_parquet(\"testdb/sale_items.parquet\")\n",
    "\n",
    "# sale_order_id, order_date, customer_id, shop_id, freight\n",
    "sale_orders = pl.scan_parquet(\"testdb/sale_orders.parquet\")\n",
    "\n",
    "# purchase_item_id, purchase_order_id, product_id, quantity, price, amount\n",
    "purchase_items = pl.scan_parquet(\"testdb/purchase_items.parquet\")\n",
    "\n",
    "# purchase_order_id, order_date, supplier_id, shop_id, freight\n",
    "purchase_orders = pl.scan_parquet(\"testdb/purchase_orders.parquet\")\n",
    "\n",
    "# customer_id, customer_name, gender\n",
    "customers = pl.scan_parquet(\"testdb/customers.parquet\").rename({\"name\": \"customer_name\"})\n",
    "\n",
    "# product_id, product_name, color\n",
    "products = pl.scan_parquet(\"testdb/products.parquet\").rename({\"name\": \"product_name\"})\n",
    "\n",
    "# supplier_id, supplier_name\n",
    "suppliers = pl.scan_parquet(\"testdb/suppliers.parquet\").rename({\"name\": \"supplier_name\"})\n",
    "\n",
    "# tag_id, tag_name\n",
    "tags = pl.scan_parquet(\"testdb/tags.parquet\")\n",
    "\n",
    "# customer_id, tag_id\n",
    "customer_tags = pl.scan_parquet(\"testdb/customer_tags.parquet\")\n"
   ],
   "outputs": [],
   "execution_count": 21
  },
  {
   "metadata": {
    "ExecuteTime": {
     "end_time": "2024-08-21T07:37:22.494031Z",
     "start_time": "2024-08-21T07:37:22.489301Z"
    }
   },
   "cell_type": "code",
   "source": "products.collect()",
   "id": "f81968557f35c03b",
   "outputs": [
    {
     "data": {
      "text/plain": [
       "shape: (10_000, 3)\n",
       "┌────────────┬──────────────┬────────┐\n",
       "│ product_id ┆ product_name ┆ color  │\n",
       "│ ---        ┆ ---          ┆ ---    │\n",
       "│ i32        ┆ str          ┆ str    │\n",
       "╞════════════╪══════════════╪════════╡\n",
       "│ 0          ┆ prd_NuK      ┆ blue   │\n",
       "│ 1          ┆ prd_Onh68I   ┆ dark   │\n",
       "│ 2          ┆ prd_1NrS0QN  ┆ blue   │\n",
       "│ 3          ┆ prd_gO5Irz5  ┆ blue   │\n",
       "│ 4          ┆ prd_1ySJEU7c ┆ light  │\n",
       "│ …          ┆ …            ┆ …      │\n",
       "│ 9995       ┆ prd_72d40    ┆ red    │\n",
       "│ 9996       ┆ prd_9D4oR8C1 ┆ pink   │\n",
       "│ 9997       ┆ prd_SWetG3   ┆ yellow │\n",
       "│ 9998       ┆ prd_gLlW3    ┆ red    │\n",
       "│ 9999       ┆ prd_hR1vkF   ┆ yellow │\n",
       "└────────────┴──────────────┴────────┘"
      ],
      "text/html": [
       "<div><style>\n",
       ".dataframe > thead > tr,\n",
       ".dataframe > tbody > tr {\n",
       "  text-align: right;\n",
       "  white-space: pre-wrap;\n",
       "}\n",
       "</style>\n",
       "<small>shape: (10_000, 3)</small><table border=\"1\" class=\"dataframe\"><thead><tr><th>product_id</th><th>product_name</th><th>color</th></tr><tr><td>i32</td><td>str</td><td>str</td></tr></thead><tbody><tr><td>0</td><td>&quot;prd_NuK&quot;</td><td>&quot;blue&quot;</td></tr><tr><td>1</td><td>&quot;prd_Onh68I&quot;</td><td>&quot;dark&quot;</td></tr><tr><td>2</td><td>&quot;prd_1NrS0QN&quot;</td><td>&quot;blue&quot;</td></tr><tr><td>3</td><td>&quot;prd_gO5Irz5&quot;</td><td>&quot;blue&quot;</td></tr><tr><td>4</td><td>&quot;prd_1ySJEU7c&quot;</td><td>&quot;light&quot;</td></tr><tr><td>&hellip;</td><td>&hellip;</td><td>&hellip;</td></tr><tr><td>9995</td><td>&quot;prd_72d40&quot;</td><td>&quot;red&quot;</td></tr><tr><td>9996</td><td>&quot;prd_9D4oR8C1&quot;</td><td>&quot;pink&quot;</td></tr><tr><td>9997</td><td>&quot;prd_SWetG3&quot;</td><td>&quot;yellow&quot;</td></tr><tr><td>9998</td><td>&quot;prd_gLlW3&quot;</td><td>&quot;red&quot;</td></tr><tr><td>9999</td><td>&quot;prd_hR1vkF&quot;</td><td>&quot;yellow&quot;</td></tr></tbody></table></div>"
      ]
     },
     "execution_count": 22,
     "metadata": {},
     "output_type": "execute_result"
    }
   ],
   "execution_count": 22
  },
  {
   "metadata": {
    "ExecuteTime": {
     "end_time": "2024-08-21T07:53:55.859963Z",
     "start_time": "2024-08-21T07:53:28.039624Z"
    }
   },
   "cell_type": "code",
   "source": [
    "\n",
    "# join sale_items with sale_orders, customers, products, tags\n",
    "\n",
    "wt1 = ((sale_items.join(sale_orders, left_on=\"sale_order_id\", right_on=\"sale_order_id\", how=\"left\")\n",
    "       .join(products, on =\"product_id\", how=\"left\")\n",
    "       .join(customers, on =\"customer_id\", how=\"left\")\n",
    "       .join(customer_tags, on =\"customer_id\", how=\"left\")\n",
    "       .join(tags, on =\"tag_id\", how=\"left\")\n",
    "       ) \n",
    "       .filter( pl.col(\"product_name\") == \"prd_i6Sgm\" ) \n",
    "       .group_by( pl.col(\"product_name\"), pl.col(\"order_date\").dt.month() )\n",
    "       .agg( pl.sum(\"amount\"), pl.count(\"sale_item_id\").alias(\"cnt\") ))\n",
    "\n",
    "# wt1.show_graph( optimized = True )\n",
    "wt1.collect()  # 27s\n"
   ],
   "id": "472898ddabd99513",
   "outputs": [
    {
     "data": {
      "text/plain": [
       "shape: (12, 4)\n",
       "┌──────────────┬────────────┬──────────┬──────┐\n",
       "│ product_name ┆ order_date ┆ amount   ┆ cnt  │\n",
       "│ ---          ┆ ---        ┆ ---      ┆ ---  │\n",
       "│ str          ┆ i8         ┆ f64      ┆ u32  │\n",
       "╞══════════════╪════════════╪══════════╪══════╡\n",
       "│ prd_i6Sgm    ┆ 8          ┆ 583300.0 ┆ 5139 │\n",
       "│ prd_i6Sgm    ┆ 10         ┆ 636766.0 ┆ 5627 │\n",
       "│ prd_i6Sgm    ┆ 6          ┆ 587024.0 ┆ 5121 │\n",
       "│ prd_i6Sgm    ┆ 11         ┆ 586530.0 ┆ 5134 │\n",
       "│ prd_i6Sgm    ┆ 7          ┆ 683240.0 ┆ 5864 │\n",
       "│ …            ┆ …          ┆ …        ┆ …    │\n",
       "│ prd_i6Sgm    ┆ 2          ┆ 576308.0 ┆ 4940 │\n",
       "│ prd_i6Sgm    ┆ 3          ┆ 675222.0 ┆ 5910 │\n",
       "│ prd_i6Sgm    ┆ 9          ┆ 636500.0 ┆ 5492 │\n",
       "│ prd_i6Sgm    ┆ 5          ┆ 660934.0 ┆ 5629 │\n",
       "│ prd_i6Sgm    ┆ 4          ┆ 595574.0 ┆ 5221 │\n",
       "└──────────────┴────────────┴──────────┴──────┘"
      ],
      "text/html": [
       "<div><style>\n",
       ".dataframe > thead > tr,\n",
       ".dataframe > tbody > tr {\n",
       "  text-align: right;\n",
       "  white-space: pre-wrap;\n",
       "}\n",
       "</style>\n",
       "<small>shape: (12, 4)</small><table border=\"1\" class=\"dataframe\"><thead><tr><th>product_name</th><th>order_date</th><th>amount</th><th>cnt</th></tr><tr><td>str</td><td>i8</td><td>f64</td><td>u32</td></tr></thead><tbody><tr><td>&quot;prd_i6Sgm&quot;</td><td>8</td><td>583300.0</td><td>5139</td></tr><tr><td>&quot;prd_i6Sgm&quot;</td><td>10</td><td>636766.0</td><td>5627</td></tr><tr><td>&quot;prd_i6Sgm&quot;</td><td>6</td><td>587024.0</td><td>5121</td></tr><tr><td>&quot;prd_i6Sgm&quot;</td><td>11</td><td>586530.0</td><td>5134</td></tr><tr><td>&quot;prd_i6Sgm&quot;</td><td>7</td><td>683240.0</td><td>5864</td></tr><tr><td>&hellip;</td><td>&hellip;</td><td>&hellip;</td><td>&hellip;</td></tr><tr><td>&quot;prd_i6Sgm&quot;</td><td>2</td><td>576308.0</td><td>4940</td></tr><tr><td>&quot;prd_i6Sgm&quot;</td><td>3</td><td>675222.0</td><td>5910</td></tr><tr><td>&quot;prd_i6Sgm&quot;</td><td>9</td><td>636500.0</td><td>5492</td></tr><tr><td>&quot;prd_i6Sgm&quot;</td><td>5</td><td>660934.0</td><td>5629</td></tr><tr><td>&quot;prd_i6Sgm&quot;</td><td>4</td><td>595574.0</td><td>5221</td></tr></tbody></table></div>"
      ]
     },
     "execution_count": 29,
     "metadata": {},
     "output_type": "execute_result"
    }
   ],
   "execution_count": 29
  },
  {
   "metadata": {
    "ExecuteTime": {
     "end_time": "2024-08-21T07:54:46.423558Z",
     "start_time": "2024-08-21T07:54:44.469169Z"
    }
   },
   "cell_type": "code",
   "source": [
    "wt2 = ((sale_items.join(sale_orders, left_on=\"sale_order_id\", right_on=\"sale_order_id\", how=\"left\")\n",
    "       .join(products, on =\"product_id\", how=\"left\")\n",
    "       ) \n",
    "       .filter( pl.col(\"product_name\") == \"prd_i6Sgm\" ) \n",
    "       .group_by( pl.col(\"product_name\"), pl.col(\"order_date\").dt.month() )\n",
    "       .agg( pl.sum(\"amount\"), pl.count(\"sale_item_id\").alias(\"cnt\") ))\n",
    "\n",
    "# wt1.show_graph( optimized = True )\n",
    "wt2.collect()  # 1.9s"
   ],
   "id": "6a98f5439871e137",
   "outputs": [
    {
     "data": {
      "text/plain": [
       "shape: (12, 4)\n",
       "┌──────────────┬────────────┬─────────┬─────┐\n",
       "│ product_name ┆ order_date ┆ amount  ┆ cnt │\n",
       "│ ---          ┆ ---        ┆ ---     ┆ --- │\n",
       "│ str          ┆ i8         ┆ f64     ┆ u32 │\n",
       "╞══════════════╪════════════╪═════════╪═════╡\n",
       "│ prd_i6Sgm    ┆ 10         ┆ 79458.0 ┆ 699 │\n",
       "│ prd_i6Sgm    ┆ 5          ┆ 81244.0 ┆ 694 │\n",
       "│ prd_i6Sgm    ┆ 12         ┆ 76076.0 ┆ 673 │\n",
       "│ prd_i6Sgm    ┆ 3          ┆ 83638.0 ┆ 734 │\n",
       "│ prd_i6Sgm    ┆ 1          ┆ 79306.0 ┆ 686 │\n",
       "│ …            ┆ …          ┆ …       ┆ …   │\n",
       "│ prd_i6Sgm    ┆ 11         ┆ 73416.0 ┆ 649 │\n",
       "│ prd_i6Sgm    ┆ 7          ┆ 83182.0 ┆ 718 │\n",
       "│ prd_i6Sgm    ┆ 6          ┆ 73416.0 ┆ 638 │\n",
       "│ prd_i6Sgm    ┆ 9          ┆ 79610.0 ┆ 687 │\n",
       "│ prd_i6Sgm    ┆ 4          ┆ 75620.0 ┆ 667 │\n",
       "└──────────────┴────────────┴─────────┴─────┘"
      ],
      "text/html": [
       "<div><style>\n",
       ".dataframe > thead > tr,\n",
       ".dataframe > tbody > tr {\n",
       "  text-align: right;\n",
       "  white-space: pre-wrap;\n",
       "}\n",
       "</style>\n",
       "<small>shape: (12, 4)</small><table border=\"1\" class=\"dataframe\"><thead><tr><th>product_name</th><th>order_date</th><th>amount</th><th>cnt</th></tr><tr><td>str</td><td>i8</td><td>f64</td><td>u32</td></tr></thead><tbody><tr><td>&quot;prd_i6Sgm&quot;</td><td>10</td><td>79458.0</td><td>699</td></tr><tr><td>&quot;prd_i6Sgm&quot;</td><td>5</td><td>81244.0</td><td>694</td></tr><tr><td>&quot;prd_i6Sgm&quot;</td><td>12</td><td>76076.0</td><td>673</td></tr><tr><td>&quot;prd_i6Sgm&quot;</td><td>3</td><td>83638.0</td><td>734</td></tr><tr><td>&quot;prd_i6Sgm&quot;</td><td>1</td><td>79306.0</td><td>686</td></tr><tr><td>&hellip;</td><td>&hellip;</td><td>&hellip;</td><td>&hellip;</td></tr><tr><td>&quot;prd_i6Sgm&quot;</td><td>11</td><td>73416.0</td><td>649</td></tr><tr><td>&quot;prd_i6Sgm&quot;</td><td>7</td><td>83182.0</td><td>718</td></tr><tr><td>&quot;prd_i6Sgm&quot;</td><td>6</td><td>73416.0</td><td>638</td></tr><tr><td>&quot;prd_i6Sgm&quot;</td><td>9</td><td>79610.0</td><td>687</td></tr><tr><td>&quot;prd_i6Sgm&quot;</td><td>4</td><td>75620.0</td><td>667</td></tr></tbody></table></div>"
      ]
     },
     "execution_count": 30,
     "metadata": {},
     "output_type": "execute_result"
    }
   ],
   "execution_count": 30
  },
  {
   "metadata": {},
   "cell_type": "markdown",
   "source": [
    "对比 wt2 和 wt1 的执行，wt1 花了 27s，wt2 花了 1.9s，wt2 是 wt1 的 14 倍。\n",
    "\n",
    "wt1 的执行计划中，有 5个 join 操作，而 wt2 只有 2 join 操作，但实际执行上，另外3个表，并没有参与查询，理论上是可以进行优化的。\n",
    "这也说明了 polars 在优化上还存在很大的空间。比如，对查询计划进行减枝。"
   ],
   "id": "881e29e47ffed9e3"
  },
  {
   "metadata": {
    "ExecuteTime": {
     "end_time": "2024-08-21T08:06:18.316534Z",
     "start_time": "2024-08-21T08:06:16.097272Z"
    }
   },
   "cell_type": "code",
   "source": [
    "wt2 = (sale_items.join(sale_orders, left_on=\"sale_order_id\", right_on=\"sale_order_id\", how=\"left\")\n",
    "       .join(products, on =\"product_id\", how=\"left\")\n",
    "       ) \n",
    "wt2.collect()"
   ],
   "id": "d647a129517061a1",
   "outputs": [
    {
     "data": {
      "text/plain": [
       "shape: (80_002_715, 12)\n",
       "┌─────────────┬─────────────┬────────────┬──────────┬───┬─────────┬─────────┬─────────────┬────────┐\n",
       "│ sale_item_i ┆ sale_order_ ┆ product_id ┆ quantity ┆ … ┆ shop_id ┆ freight ┆ product_nam ┆ color  │\n",
       "│ d           ┆ id          ┆ ---        ┆ ---      ┆   ┆ ---     ┆ ---     ┆ e           ┆ ---    │\n",
       "│ ---         ┆ ---         ┆ i32        ┆ i32      ┆   ┆ i32     ┆ f64     ┆ ---         ┆ str    │\n",
       "│ i64         ┆ i32         ┆            ┆          ┆   ┆         ┆         ┆ str         ┆        │\n",
       "╞═════════════╪═════════════╪════════════╪══════════╪═══╪═════════╪═════════╪═════════════╪════════╡\n",
       "│ 176566138   ┆ 17656613    ┆ 25         ┆ 2        ┆ … ┆ 39      ┆ 70.0    ┆ prd_R428ZQ2 ┆ blue   │\n",
       "│ 176566139   ┆ 17656613    ┆ 7759       ┆ 5        ┆ … ┆ 39      ┆ 70.0    ┆ prd_2AvLkI  ┆ pink   │\n",
       "│ 176566141   ┆ 17656614    ┆ 185        ┆ 5        ┆ … ┆ 13      ┆ 30.0    ┆ prd_wC5N4e  ┆ blue   │\n",
       "│ 176566146   ┆ 17656614    ┆ 3565       ┆ 4        ┆ … ┆ 13      ┆ 30.0    ┆ prd_aStuOJH ┆ dark   │\n",
       "│             ┆             ┆            ┆          ┆   ┆         ┆         ┆ PBk         ┆        │\n",
       "│ 176566147   ┆ 17656614    ┆ 9127       ┆ 4        ┆ … ┆ 13      ┆ 30.0    ┆ prd_U4nTT   ┆ pink   │\n",
       "│ …           ┆ …           ┆ …          ┆ …        ┆ … ┆ …       ┆ …       ┆ …           ┆ …      │\n",
       "│ 116547629   ┆ 11654762    ┆ 4428       ┆ 1        ┆ … ┆ 3       ┆ 70.0    ┆ prd_43PEa   ┆ dark   │\n",
       "│ 116547630   ┆ 11654763    ┆ 9178       ┆ 5        ┆ … ┆ 12      ┆ 90.0    ┆ prd_oC7p9Gt ┆ yellow │\n",
       "│             ┆             ┆            ┆          ┆   ┆         ┆         ┆ 6G          ┆        │\n",
       "│ 116547635   ┆ 11654763    ┆ 5821       ┆ 3        ┆ … ┆ 12      ┆ 90.0    ┆ prd_SNn3eSz ┆ dark   │\n",
       "│ 116547637   ┆ 11654763    ┆ 1617       ┆ 3        ┆ … ┆ 12      ┆ 90.0    ┆ prd_6sEr    ┆ blue   │\n",
       "│ 116547642   ┆ 11654764    ┆ 4105       ┆ 5        ┆ … ┆ 15      ┆ 90.0    ┆ prd_gm29sSz ┆ yellow │\n",
       "│             ┆             ┆            ┆          ┆   ┆         ┆         ┆ q           ┆        │\n",
       "└─────────────┴─────────────┴────────────┴──────────┴───┴─────────┴─────────┴─────────────┴────────┘"
      ],
      "text/html": [
       "<div><style>\n",
       ".dataframe > thead > tr,\n",
       ".dataframe > tbody > tr {\n",
       "  text-align: right;\n",
       "  white-space: pre-wrap;\n",
       "}\n",
       "</style>\n",
       "<small>shape: (80_002_715, 12)</small><table border=\"1\" class=\"dataframe\"><thead><tr><th>sale_item_id</th><th>sale_order_id</th><th>product_id</th><th>quantity</th><th>price</th><th>amount</th><th>order_date</th><th>customer_id</th><th>shop_id</th><th>freight</th><th>product_name</th><th>color</th></tr><tr><td>i64</td><td>i32</td><td>i32</td><td>i32</td><td>f64</td><td>f64</td><td>date</td><td>i32</td><td>i32</td><td>f64</td><td>str</td><td>str</td></tr></thead><tbody><tr><td>176566138</td><td>17656613</td><td>25</td><td>2</td><td>35.0</td><td>70.0</td><td>2022-04-11</td><td>333218</td><td>39</td><td>70.0</td><td>&quot;prd_R428ZQ2&quot;</td><td>&quot;blue&quot;</td></tr><tr><td>176566139</td><td>17656613</td><td>7759</td><td>5</td><td>69.0</td><td>345.0</td><td>2022-04-11</td><td>333218</td><td>39</td><td>70.0</td><td>&quot;prd_2AvLkI&quot;</td><td>&quot;pink&quot;</td></tr><tr><td>176566141</td><td>17656614</td><td>185</td><td>5</td><td>95.0</td><td>475.0</td><td>2022-11-07</td><td>661031</td><td>13</td><td>30.0</td><td>&quot;prd_wC5N4e&quot;</td><td>&quot;blue&quot;</td></tr><tr><td>176566146</td><td>17656614</td><td>3565</td><td>4</td><td>75.0</td><td>300.0</td><td>2022-11-07</td><td>661031</td><td>13</td><td>30.0</td><td>&quot;prd_aStuOJHPBk&quot;</td><td>&quot;dark&quot;</td></tr><tr><td>176566147</td><td>17656614</td><td>9127</td><td>4</td><td>37.0</td><td>148.0</td><td>2022-11-07</td><td>661031</td><td>13</td><td>30.0</td><td>&quot;prd_U4nTT&quot;</td><td>&quot;pink&quot;</td></tr><tr><td>&hellip;</td><td>&hellip;</td><td>&hellip;</td><td>&hellip;</td><td>&hellip;</td><td>&hellip;</td><td>&hellip;</td><td>&hellip;</td><td>&hellip;</td><td>&hellip;</td><td>&hellip;</td><td>&hellip;</td></tr><tr><td>116547629</td><td>11654762</td><td>4428</td><td>1</td><td>38.0</td><td>38.0</td><td>2022-07-26</td><td>860862</td><td>3</td><td>70.0</td><td>&quot;prd_43PEa&quot;</td><td>&quot;dark&quot;</td></tr><tr><td>116547630</td><td>11654763</td><td>9178</td><td>5</td><td>88.0</td><td>440.0</td><td>2022-04-14</td><td>192167</td><td>12</td><td>90.0</td><td>&quot;prd_oC7p9Gt6G&quot;</td><td>&quot;yellow&quot;</td></tr><tr><td>116547635</td><td>11654763</td><td>5821</td><td>3</td><td>31.0</td><td>93.0</td><td>2022-04-14</td><td>192167</td><td>12</td><td>90.0</td><td>&quot;prd_SNn3eSz&quot;</td><td>&quot;dark&quot;</td></tr><tr><td>116547637</td><td>11654763</td><td>1617</td><td>3</td><td>27.0</td><td>81.0</td><td>2022-04-14</td><td>192167</td><td>12</td><td>90.0</td><td>&quot;prd_6sEr&quot;</td><td>&quot;blue&quot;</td></tr><tr><td>116547642</td><td>11654764</td><td>4105</td><td>5</td><td>15.0</td><td>75.0</td><td>2022-05-26</td><td>737969</td><td>15</td><td>90.0</td><td>&quot;prd_gm29sSzq&quot;</td><td>&quot;yellow&quot;</td></tr></tbody></table></div>"
      ]
     },
     "execution_count": 31,
     "metadata": {},
     "output_type": "execute_result"
    }
   ],
   "execution_count": 31
  },
  {
   "metadata": {
    "ExecuteTime": {
     "end_time": "2024-08-21T08:20:35.265539Z",
     "start_time": "2024-08-21T08:20:35.140778Z"
    }
   },
   "cell_type": "code",
   "source": [
    "from datetime import date\n",
    "\n",
    "wt2 = ((sale_items.join(sale_orders, left_on=\"sale_order_id\", right_on=\"sale_order_id\", how=\"left\")\n",
    "       .join(products, on =\"product_id\", how=\"left\")\n",
    "       ) \n",
    "       .filter( (pl.col(\"order_date\") >= date(2022, 4, 1)) & (pl.col(\"order_date\") < date(2022, 5, 1)) )\n",
    "       .group_by( pl.col(\"product_name\"), pl.col(\"order_date\").dt.to_string(\"%Y-%m\") )\n",
    "       .agg( \n",
    "              pl.sum(\"amount\"), \n",
    "              pl.count(\"sale_item_id\").alias(\"cnt\"),\n",
    "              pl.col(\"amount\").filter( pl.col(\"amount\") >= 335).sum().alias(\"sum_amount_gt_1000\"),\n",
    "              pl.col(\"sale_item_id\").filter( pl.col(\"amount\") >= 335).count().alias(\"cnt_amount_gt_1000\"),\n",
    "       )\n",
    "       .sort(\"product_name\")\n",
    ")\n",
    "wt2.show_graph( optimized = True )"
   ],
   "id": "9cd7e8e708e8a4b",
   "outputs": [
    {
     "data": {
      "text/plain": [
       "<IPython.core.display.SVG object>"
      ],
      "image/svg+xml": "<svg xmlns=\"http://www.w3.org/2000/svg\" xmlns:xlink=\"http://www.w3.org/1999/xlink\" width=\"1607pt\" height=\"634pt\" viewBox=\"0.00 0.00 1607.25 634.00\">\n<g id=\"graph0\" class=\"graph\" transform=\"scale(1 1) rotate(0) translate(4 630)\">\n<title>polars_query</title>\n<polygon fill=\"white\" stroke=\"none\" points=\"-4,4 -4,-630 1603.25,-630 1603.25,4 -4,4\"/>\n<!-- SORT BY [col(&quot;product_name&quot;)] [(0, 0)] -->\n<g id=\"node1\" class=\"node\">\n<title>SORT BY [col(&quot;product_name&quot;)] [(0, 0)]</title>\n<polygon fill=\"none\" stroke=\"black\" points=\"899.5,-626 699.75,-626 699.75,-590 899.5,-590 899.5,-626\"/>\n<text text-anchor=\"middle\" x=\"799.62\" y=\"-602.95\" font-family=\"Times,serif\" font-size=\"14.00\">SORT BY [col(&quot;product_name&quot;)]</text>\n</g>\n<!-- AGG [col(&quot;amount&quot;).sum(), col(&quot;sale_item_id&quot;).count().alias(&quot;cnt&quot;), col(&quot;amount&quot;).filter(col(&quot;__POLARS_CSER_0x931ac5504fff44f&quot;)).sum().alias(&quot;sum_amount_gt_1000&quot;), col(&quot;sale_item_id&quot;).filter(col(&quot;__POLARS_CSER_0x931ac5504fff44f&quot;)).count().alias(&quot;cnt_amount_gt_1000&quot;)]\nBY\n[col(&quot;product_name&quot;),col(&quot;order_date&quot;).dt.to_string()] [(0, 1)] [(0, 1)] -->\n<g id=\"node2\" class=\"node\">\n<title>AGG [col(&quot;amount&quot;).sum(), col(&quot;sale_item_id&quot;).count().alias(&quot;cnt&quot;), col(&quot;amount&quot;).filter(col(&quot;__POLARS_CSER_0x931ac5504fff44f&quot;)).sum().alias(&quot;sum_amount_gt_1000&quot;), col(&quot;sale_item_id&quot;).filter(col(&quot;__POLARS_CSER_0x931ac5504fff44f&quot;)).count().alias(&quot;cnt_amount_gt_1000&quot;)]\nBY\n[col(&quot;product_name&quot;),col(&quot;order_date&quot;).dt.to_string()] [(0, 1)] [(0, 1)]</title>\n<polygon fill=\"none\" stroke=\"black\" points=\"1599.25,-554 0,-554 0,-496.5 1599.25,-496.5 1599.25,-554\"/>\n<text text-anchor=\"middle\" x=\"799.62\" y=\"-536.7\" font-family=\"Times,serif\" font-size=\"14.00\">AGG [col(&quot;amount&quot;).sum(), col(&quot;sale_item_id&quot;).count().alias(&quot;cnt&quot;), col(&quot;amount&quot;).filter(col(&quot;__POLARS_CSER_0x931ac5504fff44f&quot;)).sum().alias(&quot;sum_amount_gt_1000&quot;), col(&quot;sale_item_id&quot;).filter(col(&quot;__POLARS_CSER_0x931ac5504fff44f&quot;)).count().alias(&quot;cnt_amount_gt_1000&quot;)]</text>\n<text text-anchor=\"middle\" x=\"799.62\" y=\"-520.2\" font-family=\"Times,serif\" font-size=\"14.00\">BY</text>\n<text text-anchor=\"middle\" x=\"799.62\" y=\"-503.7\" font-family=\"Times,serif\" font-size=\"14.00\">[col(&quot;product_name&quot;),col(&quot;order_date&quot;).dt.to_string()] [(0, 1)]</text>\n</g>\n<!-- SORT BY [col(&quot;product_name&quot;)] [(0, 0)]&#45;&#45;AGG [col(&quot;amount&quot;).sum(), col(&quot;sale_item_id&quot;).count().alias(&quot;cnt&quot;), col(&quot;amount&quot;).filter(col(&quot;__POLARS_CSER_0x931ac5504fff44f&quot;)).sum().alias(&quot;sum_amount_gt_1000&quot;), col(&quot;sale_item_id&quot;).filter(col(&quot;__POLARS_CSER_0x931ac5504fff44f&quot;)).count().alias(&quot;cnt_amount_gt_1000&quot;)]\nBY\n[col(&quot;product_name&quot;),col(&quot;order_date&quot;).dt.to_string()] [(0, 1)] [(0, 1)] -->\n<g id=\"edge1\" class=\"edge\">\n<title>SORT BY [col(&quot;product_name&quot;)] [(0, 0)]--AGG [col(&quot;amount&quot;).sum(), col(&quot;sale_item_id&quot;).count().alias(&quot;cnt&quot;), col(&quot;amount&quot;).filter(col(&quot;__POLARS_CSER_0x931ac5504fff44f&quot;)).sum().alias(&quot;sum_amount_gt_1000&quot;), col(&quot;sale_item_id&quot;).filter(col(&quot;__POLARS_CSER_0x931ac5504fff44f&quot;)).count().alias(&quot;cnt_amount_gt_1000&quot;)]\nBY\n[col(&quot;product_name&quot;),col(&quot;order_date&quot;).dt.to_string()] [(0, 1)] [(0, 1)]</title>\n<path fill=\"none\" stroke=\"black\" d=\"M799.62,-589.88C799.62,-579.6 799.62,-566.27 799.62,-554.47\"/>\n</g>\n<!-- WITH COLUMNS [&quot;__POLARS_CSER_0x931ac5504fff44f&quot;] [(0, 2)] -->\n<g id=\"node3\" class=\"node\">\n<title>WITH COLUMNS [&quot;__POLARS_CSER_0x931ac5504fff44f&quot;] [(0, 2)]</title>\n<polygon fill=\"none\" stroke=\"black\" points=\"981.62,-460.5 617.62,-460.5 617.62,-424.5 981.62,-424.5 981.62,-460.5\"/>\n<text text-anchor=\"middle\" x=\"799.62\" y=\"-437.45\" font-family=\"Times,serif\" font-size=\"14.00\">WITH COLUMNS [&quot;__POLARS_CSER_0x931ac5504fff44f&quot;]</text>\n</g>\n<!-- AGG [col(&quot;amount&quot;).sum(), col(&quot;sale_item_id&quot;).count().alias(&quot;cnt&quot;), col(&quot;amount&quot;).filter(col(&quot;__POLARS_CSER_0x931ac5504fff44f&quot;)).sum().alias(&quot;sum_amount_gt_1000&quot;), col(&quot;sale_item_id&quot;).filter(col(&quot;__POLARS_CSER_0x931ac5504fff44f&quot;)).count().alias(&quot;cnt_amount_gt_1000&quot;)]\nBY\n[col(&quot;product_name&quot;),col(&quot;order_date&quot;).dt.to_string()] [(0, 1)] [(0, 1)]&#45;&#45;WITH COLUMNS [&quot;__POLARS_CSER_0x931ac5504fff44f&quot;] [(0, 2)] -->\n<g id=\"edge2\" class=\"edge\">\n<title>AGG [col(&quot;amount&quot;).sum(), col(&quot;sale_item_id&quot;).count().alias(&quot;cnt&quot;), col(&quot;amount&quot;).filter(col(&quot;__POLARS_CSER_0x931ac5504fff44f&quot;)).sum().alias(&quot;sum_amount_gt_1000&quot;), col(&quot;sale_item_id&quot;).filter(col(&quot;__POLARS_CSER_0x931ac5504fff44f&quot;)).count().alias(&quot;cnt_amount_gt_1000&quot;)]\nBY\n[col(&quot;product_name&quot;),col(&quot;order_date&quot;).dt.to_string()] [(0, 1)] [(0, 1)]--WITH COLUMNS [&quot;__POLARS_CSER_0x931ac5504fff44f&quot;] [(0, 2)]</title>\n<path fill=\"none\" stroke=\"black\" d=\"M799.62,-496.01C799.62,-484.18 799.62,-470.83 799.62,-460.54\"/>\n</g>\n<!-- π 5/11 [(0, 3)] -->\n<g id=\"node4\" class=\"node\">\n<title>π 5/11 [(0, 3)]</title>\n<polygon fill=\"none\" stroke=\"black\" points=\"826.62,-388.5 772.62,-388.5 772.62,-352.5 826.62,-352.5 826.62,-388.5\"/>\n<text text-anchor=\"middle\" x=\"799.62\" y=\"-365.45\" font-family=\"Times,serif\" font-size=\"14.00\">π 5/11</text>\n</g>\n<!-- WITH COLUMNS [&quot;__POLARS_CSER_0x931ac5504fff44f&quot;] [(0, 2)]&#45;&#45;π 5/11 [(0, 3)] -->\n<g id=\"edge3\" class=\"edge\">\n<title>WITH COLUMNS [&quot;__POLARS_CSER_0x931ac5504fff44f&quot;] [(0, 2)]--π 5/11 [(0, 3)]</title>\n<path fill=\"none\" stroke=\"black\" d=\"M799.62,-424.2C799.62,-413.35 799.62,-399.42 799.62,-388.6\"/>\n</g>\n<!-- JOIN LEFT\n &#160;&#160;&#160;&#160;&#160;&#160;&#160;&#160;&#160;&#160;&#160;&#160;&#160;&#160;&#160;&#160;&#160;&#160;&#160;left: [col(&quot;product_id&quot;)];\n &#160;&#160;&#160;&#160;&#160;&#160;&#160;&#160;&#160;&#160;&#160;&#160;&#160;&#160;&#160;&#160;&#160;&#160;&#160;right: [col(&quot;product_id&quot;)] [(0, 4)] -->\n<g id=\"node5\" class=\"node\">\n<title>JOIN LEFT\n                    left: [col(&quot;product_id&quot;)];\n                    right: [col(&quot;product_id&quot;)] [(0, 4)]</title>\n<polygon fill=\"none\" stroke=\"black\" points=\"914.12,-316.5 685.12,-316.5 685.12,-259 914.12,-259 914.12,-316.5\"/>\n<text text-anchor=\"middle\" x=\"799.62\" y=\"-299.2\" font-family=\"Times,serif\" font-size=\"14.00\">JOIN LEFT</text>\n<text text-anchor=\"middle\" x=\"799.62\" y=\"-282.7\" font-family=\"Times,serif\" font-size=\"14.00\">                    left: [col(&quot;product_id&quot;)];</text>\n<text text-anchor=\"middle\" x=\"799.62\" y=\"-266.2\" font-family=\"Times,serif\" font-size=\"14.00\">                    right: [col(&quot;product_id&quot;)]</text>\n</g>\n<!-- π 5/11 [(0, 3)]&#45;&#45;JOIN LEFT\n &#160;&#160;&#160;&#160;&#160;&#160;&#160;&#160;&#160;&#160;&#160;&#160;&#160;&#160;&#160;&#160;&#160;&#160;&#160;left: [col(&quot;product_id&quot;)];\n &#160;&#160;&#160;&#160;&#160;&#160;&#160;&#160;&#160;&#160;&#160;&#160;&#160;&#160;&#160;&#160;&#160;&#160;&#160;right: [col(&quot;product_id&quot;)] [(0, 4)] -->\n<g id=\"edge4\" class=\"edge\">\n<title>π 5/11 [(0, 3)]--JOIN LEFT\n                    left: [col(&quot;product_id&quot;)];\n                    right: [col(&quot;product_id&quot;)] [(0, 4)]</title>\n<path fill=\"none\" stroke=\"black\" d=\"M799.62,-352.38C799.62,-342.1 799.62,-328.77 799.62,-316.97\"/>\n</g>\n<!-- FILTER BY ((col(&quot;order_date&quot;)) &gt;= (... [(100, 5)] -->\n<g id=\"node6\" class=\"node\">\n<title>FILTER BY ((col(&quot;order_date&quot;)) &gt;= (... [(100, 5)]</title>\n<polygon fill=\"none\" stroke=\"black\" points=\"831.5,-223 595.75,-223 595.75,-187 831.5,-187 831.5,-223\"/>\n<text text-anchor=\"middle\" x=\"713.62\" y=\"-199.95\" font-family=\"Times,serif\" font-size=\"14.00\">FILTER BY ((col(&quot;order_date&quot;)) &gt;= (...</text>\n</g>\n<!-- JOIN LEFT\n &#160;&#160;&#160;&#160;&#160;&#160;&#160;&#160;&#160;&#160;&#160;&#160;&#160;&#160;&#160;&#160;&#160;&#160;&#160;left: [col(&quot;product_id&quot;)];\n &#160;&#160;&#160;&#160;&#160;&#160;&#160;&#160;&#160;&#160;&#160;&#160;&#160;&#160;&#160;&#160;&#160;&#160;&#160;right: [col(&quot;product_id&quot;)] [(0, 4)]&#45;&#45;FILTER BY ((col(&quot;order_date&quot;)) &gt;= (... [(100, 5)] -->\n<g id=\"edge5\" class=\"edge\">\n<title>JOIN LEFT\n                    left: [col(&quot;product_id&quot;)];\n                    right: [col(&quot;product_id&quot;)] [(0, 4)]--FILTER BY ((col(&quot;order_date&quot;)) &gt;= (... [(100, 5)]</title>\n<path fill=\"none\" stroke=\"black\" d=\"M769.55,-258.51C757.05,-246.77 742.95,-233.53 732.03,-223.28\"/>\n</g>\n<!-- RENAME [(200, 5)] -->\n<g id=\"node10\" class=\"node\">\n<title>RENAME [(200, 5)]</title>\n<polygon fill=\"none\" stroke=\"black\" points=\"944.5,-223 870.75,-223 870.75,-187 944.5,-187 944.5,-223\"/>\n<text text-anchor=\"middle\" x=\"907.62\" y=\"-199.95\" font-family=\"Times,serif\" font-size=\"14.00\">RENAME</text>\n</g>\n<!-- JOIN LEFT\n &#160;&#160;&#160;&#160;&#160;&#160;&#160;&#160;&#160;&#160;&#160;&#160;&#160;&#160;&#160;&#160;&#160;&#160;&#160;left: [col(&quot;product_id&quot;)];\n &#160;&#160;&#160;&#160;&#160;&#160;&#160;&#160;&#160;&#160;&#160;&#160;&#160;&#160;&#160;&#160;&#160;&#160;&#160;right: [col(&quot;product_id&quot;)] [(0, 4)]&#45;&#45;RENAME [(200, 5)] -->\n<g id=\"edge9\" class=\"edge\">\n<title>JOIN LEFT\n                    left: [col(&quot;product_id&quot;)];\n                    right: [col(&quot;product_id&quot;)] [(0, 4)]--RENAME [(200, 5)]</title>\n<path fill=\"none\" stroke=\"black\" d=\"M837.4,-258.51C853.09,-246.77 870.8,-233.53 884.51,-223.28\"/>\n</g>\n<!-- JOIN LEFT\n &#160;&#160;&#160;&#160;&#160;&#160;&#160;&#160;&#160;&#160;&#160;&#160;&#160;&#160;&#160;&#160;&#160;&#160;&#160;left: [col(&quot;sale_order_id&quot;)];\n &#160;&#160;&#160;&#160;&#160;&#160;&#160;&#160;&#160;&#160;&#160;&#160;&#160;&#160;&#160;&#160;&#160;&#160;&#160;right: [col(&quot;sale_order_id&quot;)] [(100, 6)] -->\n<g id=\"node7\" class=\"node\">\n<title>JOIN LEFT\n                    left: [col(&quot;sale_order_id&quot;)];\n                    right: [col(&quot;sale_order_id&quot;)] [(100, 6)]</title>\n<polygon fill=\"none\" stroke=\"black\" points=\"794.62,-151 550.62,-151 550.62,-93.5 794.62,-93.5 794.62,-151\"/>\n<text text-anchor=\"middle\" x=\"672.62\" y=\"-133.7\" font-family=\"Times,serif\" font-size=\"14.00\">JOIN LEFT</text>\n<text text-anchor=\"middle\" x=\"672.62\" y=\"-117.2\" font-family=\"Times,serif\" font-size=\"14.00\">                    left: [col(&quot;sale_order_id&quot;)];</text>\n<text text-anchor=\"middle\" x=\"672.62\" y=\"-100.7\" font-family=\"Times,serif\" font-size=\"14.00\">                    right: [col(&quot;sale_order_id&quot;)]</text>\n</g>\n<!-- FILTER BY ((col(&quot;order_date&quot;)) &gt;= (... [(100, 5)]&#45;&#45;JOIN LEFT\n &#160;&#160;&#160;&#160;&#160;&#160;&#160;&#160;&#160;&#160;&#160;&#160;&#160;&#160;&#160;&#160;&#160;&#160;&#160;left: [col(&quot;sale_order_id&quot;)];\n &#160;&#160;&#160;&#160;&#160;&#160;&#160;&#160;&#160;&#160;&#160;&#160;&#160;&#160;&#160;&#160;&#160;&#160;&#160;right: [col(&quot;sale_order_id&quot;)] [(100, 6)] -->\n<g id=\"edge6\" class=\"edge\">\n<title>FILTER BY ((col(&quot;order_date&quot;)) &gt;= (... [(100, 5)]--JOIN LEFT\n                    left: [col(&quot;sale_order_id&quot;)];\n                    right: [col(&quot;sale_order_id&quot;)] [(100, 6)]</title>\n<path fill=\"none\" stroke=\"black\" d=\"M704.93,-186.88C699.71,-176.6 692.95,-163.27 686.95,-151.47\"/>\n</g>\n<!-- Parquet SCAN testdb/sale_items.parquet;\nπ 4/6;\nσ &#45; [(200, 7)] -->\n<g id=\"node8\" class=\"node\">\n<title>Parquet SCAN testdb/sale_items.parquet;\nπ 4/6;\nσ - [(200, 7)]</title>\n<polygon fill=\"none\" stroke=\"black\" points=\"662.88,-57.5 420.38,-57.5 420.38,0 662.88,0 662.88,-57.5\"/>\n<text text-anchor=\"middle\" x=\"541.62\" y=\"-40.2\" font-family=\"Times,serif\" font-size=\"14.00\">Parquet SCAN testdb/sale_items.parquet;</text>\n<text text-anchor=\"middle\" x=\"541.62\" y=\"-23.7\" font-family=\"Times,serif\" font-size=\"14.00\">π 4/6;</text>\n<text text-anchor=\"middle\" x=\"541.62\" y=\"-7.2\" font-family=\"Times,serif\" font-size=\"14.00\">σ -</text>\n</g>\n<!-- JOIN LEFT\n &#160;&#160;&#160;&#160;&#160;&#160;&#160;&#160;&#160;&#160;&#160;&#160;&#160;&#160;&#160;&#160;&#160;&#160;&#160;left: [col(&quot;sale_order_id&quot;)];\n &#160;&#160;&#160;&#160;&#160;&#160;&#160;&#160;&#160;&#160;&#160;&#160;&#160;&#160;&#160;&#160;&#160;&#160;&#160;right: [col(&quot;sale_order_id&quot;)] [(100, 6)]&#45;&#45;Parquet SCAN testdb/sale_items.parquet;\nπ 4/6;\nσ &#45; [(200, 7)] -->\n<g id=\"edge7\" class=\"edge\">\n<title>JOIN LEFT\n                    left: [col(&quot;sale_order_id&quot;)];\n                    right: [col(&quot;sale_order_id&quot;)] [(100, 6)]--Parquet SCAN testdb/sale_items.parquet;\nπ 4/6;\nσ - [(200, 7)]</title>\n<path fill=\"none\" stroke=\"black\" d=\"M632.25,-93.05C616.16,-81.81 597.69,-68.91 581.64,-57.7\"/>\n</g>\n<!-- Parquet SCAN testdb/sale_orders.parquet;\nπ 2/5;\nσ &#45; [(300, 7)] -->\n<g id=\"node9\" class=\"node\">\n<title>Parquet SCAN testdb/sale_orders.parquet;\nπ 2/5;\nσ - [(300, 7)]</title>\n<polygon fill=\"none\" stroke=\"black\" points=\"926.75,-57.5 680.5,-57.5 680.5,0 926.75,0 926.75,-57.5\"/>\n<text text-anchor=\"middle\" x=\"803.62\" y=\"-40.2\" font-family=\"Times,serif\" font-size=\"14.00\">Parquet SCAN testdb/sale_orders.parquet;</text>\n<text text-anchor=\"middle\" x=\"803.62\" y=\"-23.7\" font-family=\"Times,serif\" font-size=\"14.00\">π 2/5;</text>\n<text text-anchor=\"middle\" x=\"803.62\" y=\"-7.2\" font-family=\"Times,serif\" font-size=\"14.00\">σ -</text>\n</g>\n<!-- JOIN LEFT\n &#160;&#160;&#160;&#160;&#160;&#160;&#160;&#160;&#160;&#160;&#160;&#160;&#160;&#160;&#160;&#160;&#160;&#160;&#160;left: [col(&quot;sale_order_id&quot;)];\n &#160;&#160;&#160;&#160;&#160;&#160;&#160;&#160;&#160;&#160;&#160;&#160;&#160;&#160;&#160;&#160;&#160;&#160;&#160;right: [col(&quot;sale_order_id&quot;)] [(100, 6)]&#45;&#45;Parquet SCAN testdb/sale_orders.parquet;\nπ 2/5;\nσ &#45; [(300, 7)] -->\n<g id=\"edge8\" class=\"edge\">\n<title>JOIN LEFT\n                    left: [col(&quot;sale_order_id&quot;)];\n                    right: [col(&quot;sale_order_id&quot;)] [(100, 6)]--Parquet SCAN testdb/sale_orders.parquet;\nπ 2/5;\nσ - [(300, 7)]</title>\n<path fill=\"none\" stroke=\"black\" d=\"M713,-93.05C729.09,-81.81 747.56,-68.91 763.61,-57.7\"/>\n</g>\n<!-- Parquet SCAN testdb/products.parquet;\nπ 2/3;\nσ &#45; [(200, 6)] -->\n<g id=\"node11\" class=\"node\">\n<title>Parquet SCAN testdb/products.parquet;\nπ 2/3;\nσ - [(200, 6)]</title>\n<polygon fill=\"none\" stroke=\"black\" points=\"1044.25,-151 813,-151 813,-93.5 1044.25,-93.5 1044.25,-151\"/>\n<text text-anchor=\"middle\" x=\"928.62\" y=\"-133.7\" font-family=\"Times,serif\" font-size=\"14.00\">Parquet SCAN testdb/products.parquet;</text>\n<text text-anchor=\"middle\" x=\"928.62\" y=\"-117.2\" font-family=\"Times,serif\" font-size=\"14.00\">π 2/3;</text>\n<text text-anchor=\"middle\" x=\"928.62\" y=\"-100.7\" font-family=\"Times,serif\" font-size=\"14.00\">σ -</text>\n</g>\n<!-- RENAME [(200, 5)]&#45;&#45;Parquet SCAN testdb/products.parquet;\nπ 2/3;\nσ &#45; [(200, 6)] -->\n<g id=\"edge10\" class=\"edge\">\n<title>RENAME [(200, 5)]--Parquet SCAN testdb/products.parquet;\nπ 2/3;\nσ - [(200, 6)]</title>\n<path fill=\"none\" stroke=\"black\" d=\"M912.08,-186.88C914.75,-176.6 918.22,-163.27 921.29,-151.47\"/>\n</g>\n</g>\n</svg>"
     },
     "metadata": {},
     "output_type": "display_data"
    }
   ],
   "execution_count": 51
  },
  {
   "metadata": {
    "ExecuteTime": {
     "end_time": "2024-08-21T08:19:05.424630Z",
     "start_time": "2024-08-21T08:19:04.391064Z"
    }
   },
   "cell_type": "code",
   "source": [
    "((sale_items.join(sale_orders, left_on=\"sale_order_id\", right_on=\"sale_order_id\", how=\"left\")\n",
    "       .join(products, on =\"product_id\", how=\"left\")\n",
    "       ).filter( (pl.col(\"product_name\") == \"prd_00KCOA2\") & (pl.col(\"order_date\").dt.to_string(\"%Y-%m\") == \"2022-04\") )\n",
    "       .filter(pl.col(\"amount\") > 300)\n",
    "       .sort(\"amount\")\n",
    " .collect())"
   ],
   "id": "1d88fcc919560543",
   "outputs": [
    {
     "data": {
      "text/plain": [
       "shape: (124, 12)\n",
       "┌──────────────┬─────────────┬────────────┬──────────┬───┬─────────┬─────────┬─────────────┬───────┐\n",
       "│ sale_item_id ┆ sale_order_ ┆ product_id ┆ quantity ┆ … ┆ shop_id ┆ freight ┆ product_nam ┆ color │\n",
       "│ ---          ┆ id          ┆ ---        ┆ ---      ┆   ┆ ---     ┆ ---     ┆ e           ┆ ---   │\n",
       "│ i64          ┆ ---         ┆ i32        ┆ i32      ┆   ┆ i32     ┆ f64     ┆ ---         ┆ str   │\n",
       "│              ┆ i32         ┆            ┆          ┆   ┆         ┆         ┆ str         ┆       │\n",
       "╞══════════════╪═════════════╪════════════╪══════════╪═══╪═════════╪═════════╪═════════════╪═══════╡\n",
       "│ 156582366    ┆ 15658236    ┆ 1757       ┆ 5        ┆ … ┆ 54      ┆ 90.0    ┆ prd_00KCOA2 ┆ light │\n",
       "│ 36840820     ┆ 3684082     ┆ 1757       ┆ 5        ┆ … ┆ 56      ┆ 40.0    ┆ prd_00KCOA2 ┆ light │\n",
       "│ 96931164     ┆ 9693116     ┆ 1757       ┆ 5        ┆ … ┆ 21      ┆ 70.0    ┆ prd_00KCOA2 ┆ light │\n",
       "│ 57355064     ┆ 5735506     ┆ 1757       ┆ 5        ┆ … ┆ 68      ┆ 90.0    ┆ prd_00KCOA2 ┆ light │\n",
       "│ 37483115     ┆ 3748311     ┆ 1757       ┆ 5        ┆ … ┆ 3       ┆ 10.0    ┆ prd_00KCOA2 ┆ light │\n",
       "│ …            ┆ …           ┆ …          ┆ …        ┆ … ┆ …       ┆ …       ┆ …           ┆ …     │\n",
       "│ 198727460    ┆ 19872746    ┆ 1757       ┆ 5        ┆ … ┆ 77      ┆ 90.0    ┆ prd_00KCOA2 ┆ light │\n",
       "│ 156186396    ┆ 15618639    ┆ 1757       ┆ 5        ┆ … ┆ 49      ┆ 10.0    ┆ prd_00KCOA2 ┆ light │\n",
       "│ 199087158    ┆ 19908715    ┆ 1757       ┆ 5        ┆ … ┆ 0       ┆ 30.0    ┆ prd_00KCOA2 ┆ light │\n",
       "│ 116097642    ┆ 11609764    ┆ 1757       ┆ 5        ┆ … ┆ 58      ┆ 60.0    ┆ prd_00KCOA2 ┆ light │\n",
       "│ 76506864     ┆ 7650686     ┆ 1757       ┆ 5        ┆ … ┆ 35      ┆ 40.0    ┆ prd_00KCOA2 ┆ light │\n",
       "└──────────────┴─────────────┴────────────┴──────────┴───┴─────────┴─────────┴─────────────┴───────┘"
      ],
      "text/html": [
       "<div><style>\n",
       ".dataframe > thead > tr,\n",
       ".dataframe > tbody > tr {\n",
       "  text-align: right;\n",
       "  white-space: pre-wrap;\n",
       "}\n",
       "</style>\n",
       "<small>shape: (124, 12)</small><table border=\"1\" class=\"dataframe\"><thead><tr><th>sale_item_id</th><th>sale_order_id</th><th>product_id</th><th>quantity</th><th>price</th><th>amount</th><th>order_date</th><th>customer_id</th><th>shop_id</th><th>freight</th><th>product_name</th><th>color</th></tr><tr><td>i64</td><td>i32</td><td>i32</td><td>i32</td><td>f64</td><td>f64</td><td>date</td><td>i32</td><td>i32</td><td>f64</td><td>str</td><td>str</td></tr></thead><tbody><tr><td>156582366</td><td>15658236</td><td>1757</td><td>5</td><td>67.0</td><td>335.0</td><td>2022-04-01</td><td>541975</td><td>54</td><td>90.0</td><td>&quot;prd_00KCOA2&quot;</td><td>&quot;light&quot;</td></tr><tr><td>36840820</td><td>3684082</td><td>1757</td><td>5</td><td>67.0</td><td>335.0</td><td>2022-04-14</td><td>666843</td><td>56</td><td>40.0</td><td>&quot;prd_00KCOA2&quot;</td><td>&quot;light&quot;</td></tr><tr><td>96931164</td><td>9693116</td><td>1757</td><td>5</td><td>67.0</td><td>335.0</td><td>2022-04-20</td><td>437563</td><td>21</td><td>70.0</td><td>&quot;prd_00KCOA2&quot;</td><td>&quot;light&quot;</td></tr><tr><td>57355064</td><td>5735506</td><td>1757</td><td>5</td><td>67.0</td><td>335.0</td><td>2022-04-12</td><td>45615</td><td>68</td><td>90.0</td><td>&quot;prd_00KCOA2&quot;</td><td>&quot;light&quot;</td></tr><tr><td>37483115</td><td>3748311</td><td>1757</td><td>5</td><td>67.0</td><td>335.0</td><td>2022-04-02</td><td>998425</td><td>3</td><td>10.0</td><td>&quot;prd_00KCOA2&quot;</td><td>&quot;light&quot;</td></tr><tr><td>&hellip;</td><td>&hellip;</td><td>&hellip;</td><td>&hellip;</td><td>&hellip;</td><td>&hellip;</td><td>&hellip;</td><td>&hellip;</td><td>&hellip;</td><td>&hellip;</td><td>&hellip;</td><td>&hellip;</td></tr><tr><td>198727460</td><td>19872746</td><td>1757</td><td>5</td><td>67.0</td><td>335.0</td><td>2022-04-15</td><td>783582</td><td>77</td><td>90.0</td><td>&quot;prd_00KCOA2&quot;</td><td>&quot;light&quot;</td></tr><tr><td>156186396</td><td>15618639</td><td>1757</td><td>5</td><td>67.0</td><td>335.0</td><td>2022-04-23</td><td>110057</td><td>49</td><td>10.0</td><td>&quot;prd_00KCOA2&quot;</td><td>&quot;light&quot;</td></tr><tr><td>199087158</td><td>19908715</td><td>1757</td><td>5</td><td>67.0</td><td>335.0</td><td>2022-04-06</td><td>819658</td><td>0</td><td>30.0</td><td>&quot;prd_00KCOA2&quot;</td><td>&quot;light&quot;</td></tr><tr><td>116097642</td><td>11609764</td><td>1757</td><td>5</td><td>67.0</td><td>335.0</td><td>2022-04-28</td><td>170919</td><td>58</td><td>60.0</td><td>&quot;prd_00KCOA2&quot;</td><td>&quot;light&quot;</td></tr><tr><td>76506864</td><td>7650686</td><td>1757</td><td>5</td><td>67.0</td><td>335.0</td><td>2022-04-28</td><td>843611</td><td>35</td><td>40.0</td><td>&quot;prd_00KCOA2&quot;</td><td>&quot;light&quot;</td></tr></tbody></table></div>"
      ]
     },
     "execution_count": 48,
     "metadata": {},
     "output_type": "execute_result"
    }
   ],
   "execution_count": 48
  }
 ],
 "metadata": {
  "kernelspec": {
   "display_name": "Python 3",
   "language": "python",
   "name": "python3"
  },
  "language_info": {
   "codemirror_mode": {
    "name": "ipython",
    "version": 2
   },
   "file_extension": ".py",
   "mimetype": "text/x-python",
   "name": "python",
   "nbconvert_exporter": "python",
   "pygments_lexer": "ipython2",
   "version": "2.7.6"
  }
 },
 "nbformat": 4,
 "nbformat_minor": 5
}
