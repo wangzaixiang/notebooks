{
 "cells": [
  {
   "cell_type": "markdown",
   "id": "f7b36933-8962-4cc2-89e5-5f25ac677710",
   "metadata": {},
   "source": [
    "# 熟悉 Polars 的概念和 API"
   ]
  },
  {
   "cell_type": "markdown",
   "id": "0aeef5fb-2eec-4a16-a412-ba36722dc65e",
   "metadata": {},
   "source": [
    "Polars DSL 中有两个核心概念： Context, Expression:\n",
    "- Context: 求值的上下文，在这个上下文中，可以对 Expression 求值。\n",
    "  - Selection Context: \n",
    "  - Filter Context\n",
    "  - Group By(Aggregation Context)\n",
    "- Expression\n",
    "\n",
    "此外 还有Transformations。\n"
   ]
  },
  {
   "cell_type": "markdown",
   "id": "0f114130-8cc9-401d-8ce8-152307211e42",
   "metadata": {},
   "source": [
    "## 1. Contexts\n",
    "\n",
    "如下的概念基于如下的示例数据集："
   ]
  },
  {
   "cell_type": "code",
   "id": "631b9e84-2758-4980-9fde-b5dccbf00011",
   "metadata": {
    "ExecuteTime": {
     "end_time": "2024-05-18T09:26:18.671937Z",
     "start_time": "2024-05-18T09:26:18.505281Z"
    }
   },
   "source": [
    "import polars as pl\n",
    "import numpy as np\n",
    "\n",
    "df = pl.DataFrame(\n",
    "    {\n",
    "        \"nrs\": [1, 2, 3, None, 5],\n",
    "        \"names\": [\"foo\", \"ham\", \"spam\", \"egg\", None],\n",
    "        \"random\": np.random.rand(5),\n",
    "        \"groups\": [\"A\", \"A\", \"B\", \"C\", \"B\"],\n",
    "    }\n",
    ")\n",
    "df"
   ],
   "outputs": [
    {
     "data": {
      "text/plain": [
       "shape: (5, 4)\n",
       "┌──────┬───────┬──────────┬────────┐\n",
       "│ nrs  ┆ names ┆ random   ┆ groups │\n",
       "│ ---  ┆ ---   ┆ ---      ┆ ---    │\n",
       "│ i64  ┆ str   ┆ f64      ┆ str    │\n",
       "╞══════╪═══════╪══════════╪════════╡\n",
       "│ 1    ┆ foo   ┆ 0.115753 ┆ A      │\n",
       "│ 2    ┆ ham   ┆ 0.290513 ┆ A      │\n",
       "│ 3    ┆ spam  ┆ 0.123097 ┆ B      │\n",
       "│ null ┆ egg   ┆ 0.322036 ┆ C      │\n",
       "│ 5    ┆ null  ┆ 0.94677  ┆ B      │\n",
       "└──────┴───────┴──────────┴────────┘"
      ],
      "text/html": [
       "<div><style>\n",
       ".dataframe > thead > tr,\n",
       ".dataframe > tbody > tr {\n",
       "  text-align: right;\n",
       "  white-space: pre-wrap;\n",
       "}\n",
       "</style>\n",
       "<small>shape: (5, 4)</small><table border=\"1\" class=\"dataframe\"><thead><tr><th>nrs</th><th>names</th><th>random</th><th>groups</th></tr><tr><td>i64</td><td>str</td><td>f64</td><td>str</td></tr></thead><tbody><tr><td>1</td><td>&quot;foo&quot;</td><td>0.115753</td><td>&quot;A&quot;</td></tr><tr><td>2</td><td>&quot;ham&quot;</td><td>0.290513</td><td>&quot;A&quot;</td></tr><tr><td>3</td><td>&quot;spam&quot;</td><td>0.123097</td><td>&quot;B&quot;</td></tr><tr><td>null</td><td>&quot;egg&quot;</td><td>0.322036</td><td>&quot;C&quot;</td></tr><tr><td>5</td><td>null</td><td>0.94677</td><td>&quot;B&quot;</td></tr></tbody></table></div>"
      ]
     },
     "execution_count": 1,
     "metadata": {},
     "output_type": "execute_result"
    }
   ],
   "execution_count": 1
  },
  {
   "attachments": {},
   "cell_type": "markdown",
   "id": "63f7ca67-5465-44a5-ab1b-88094f7e0a0b",
   "metadata": {},
   "source": [
    "### 1.1 Selection Context\n",
    "\n",
    "对应于 SQL Select 子句中的 selection part.\n",
    "\n",
    "[SELECT 语句执行流程](https://pic2.zhimg.com/80/v2-8faf44f913ce39eef7bab322e4a1b4f9_1440w.webp)\n",
    "在这个执行流程中，select 是在group by 之后执行的，如果没有 group by 子句，可以理解其执行的上下文如： `List[Row]`，而如果是 groupby 之后的话，则其上下文为：\n",
    "`List[(group_key: Tuple, records: List[Row])]`。\n",
    "\n",
    "对应到 Polars，前者可以理解为 Selection Context(`Row: List[Column]`)，后者可以理解为 Aggregation Context (`(groupKey, List[Row])`).\n"
   ]
  },
  {
   "cell_type": "markdown",
   "id": "2e7ba2a6-1abd-4626-a3f4-f20d2a06ec6a",
   "metadata": {},
   "source": [
    "#### 1) Series-N and Series-1 expression"
   ]
  },
  {
   "cell_type": "code",
   "execution_count": 8,
   "id": "e20fb290-7a0d-4ab5-9207-01a9b2088f40",
   "metadata": {},
   "outputs": [
    {
     "data": {
      "text/html": [
       "<div><style>\n",
       ".dataframe > thead > tr,\n",
       ".dataframe > tbody > tr {\n",
       "  text-align: right;\n",
       "  white-space: pre-wrap;\n",
       "}\n",
       "</style>\n",
       "<small>shape: (5, 4)</small><table border=\"1\" class=\"dataframe\"><thead><tr><th>nrs</th><th>names</th><th>total</th><th>groups</th></tr><tr><td>i64</td><td>str</td><td>f64</td><td>str</td></tr></thead><tbody><tr><td>1</td><td>&quot;foo&quot;</td><td>2.23031</td><td>&quot;A&quot;</td></tr><tr><td>2</td><td>&quot;ham&quot;</td><td>2.23031</td><td>&quot;A&quot;</td></tr><tr><td>3</td><td>&quot;spam&quot;</td><td>2.23031</td><td>&quot;B&quot;</td></tr><tr><td>null</td><td>&quot;egg&quot;</td><td>2.23031</td><td>&quot;C&quot;</td></tr><tr><td>5</td><td>null</td><td>2.23031</td><td>&quot;B&quot;</td></tr></tbody></table></div>"
      ],
      "text/plain": [
       "shape: (5, 4)\n",
       "┌──────┬───────┬─────────┬────────┐\n",
       "│ nrs  ┆ names ┆ total   ┆ groups │\n",
       "│ ---  ┆ ---   ┆ ---     ┆ ---    │\n",
       "│ i64  ┆ str   ┆ f64     ┆ str    │\n",
       "╞══════╪═══════╪═════════╪════════╡\n",
       "│ 1    ┆ foo   ┆ 2.23031 ┆ A      │\n",
       "│ 2    ┆ ham   ┆ 2.23031 ┆ A      │\n",
       "│ 3    ┆ spam  ┆ 2.23031 ┆ B      │\n",
       "│ null ┆ egg   ┆ 2.23031 ┆ C      │\n",
       "│ 5    ┆ null  ┆ 2.23031 ┆ B      │\n",
       "└──────┴───────┴─────────┴────────┘"
      ]
     },
     "execution_count": 8,
     "metadata": {},
     "output_type": "execute_result"
    }
   ],
   "source": [
    "df.select(\n",
    "    pl.col(\"nrs\"),\n",
    "    pl.col(\"names\"),\n",
    "    pl.col(\"random\").sum().alias(\"total\"),\n",
    "    pl.col(\"groups\")\n",
    ")"
   ]
  },
  {
   "cell_type": "markdown",
   "id": "7cd2ca06-04fb-4e97-9b73-dcc1b9ad29c9",
   "metadata": {},
   "source": [
    "解析：\n",
    "1. df.select( pl.col(\"nrs\") ) 返回的结果是一个 Series，其长度为 N（记录数）\n",
    "2. df.select( pl.col(\"random\").sum() ) 返回的结果是 Series[1] 或者 Scalar，Scalar值会广播成为 Series[N]。\n",
    "\n",
    "因此，在 Select 中的表达式，或者返回 Series[N]， 或者返回 Series[1]。"
   ]
  },
  {
   "cell_type": "code",
   "execution_count": 10,
   "id": "26a8889d-ae83-46db-9214-b82eb018e226",
   "metadata": {},
   "outputs": [
    {
     "data": {
      "text/html": [
       "<div><style>\n",
       ".dataframe > thead > tr,\n",
       ".dataframe > tbody > tr {\n",
       "  text-align: right;\n",
       "  white-space: pre-wrap;\n",
       "}\n",
       "</style>\n",
       "<small>shape: (5, 4)</small><table border=\"1\" class=\"dataframe\"><thead><tr><th>nrs</th><th>names</th><th>first name</th><th>10xnrs</th></tr><tr><td>i64</td><td>str</td><td>str</td><td>f64</td></tr></thead><tbody><tr><td>11</td><td>null</td><td>&quot;foo&quot;</td><td>27.5</td></tr><tr><td>11</td><td>&quot;egg&quot;</td><td>&quot;foo&quot;</td><td>27.5</td></tr><tr><td>11</td><td>&quot;foo&quot;</td><td>&quot;foo&quot;</td><td>27.5</td></tr><tr><td>11</td><td>&quot;ham&quot;</td><td>&quot;foo&quot;</td><td>27.5</td></tr><tr><td>11</td><td>&quot;spam&quot;</td><td>&quot;foo&quot;</td><td>27.5</td></tr></tbody></table></div>"
      ],
      "text/plain": [
       "shape: (5, 4)\n",
       "┌─────┬───────┬────────────┬────────┐\n",
       "│ nrs ┆ names ┆ first name ┆ 10xnrs │\n",
       "│ --- ┆ ---   ┆ ---        ┆ ---    │\n",
       "│ i64 ┆ str   ┆ str        ┆ f64    │\n",
       "╞═════╪═══════╪════════════╪════════╡\n",
       "│ 11  ┆ null  ┆ foo        ┆ 27.5   │\n",
       "│ 11  ┆ egg   ┆ foo        ┆ 27.5   │\n",
       "│ 11  ┆ foo   ┆ foo        ┆ 27.5   │\n",
       "│ 11  ┆ ham   ┆ foo        ┆ 27.5   │\n",
       "│ 11  ┆ spam  ┆ foo        ┆ 27.5   │\n",
       "└─────┴───────┴────────────┴────────┘"
      ]
     },
     "execution_count": 10,
     "metadata": {},
     "output_type": "execute_result"
    }
   ],
   "source": [
    "df.select(\n",
    "    pl.sum(\"nrs\"),                                # Scalar\n",
    "    pl.col(\"names\").sort(),                       # Series[N]\n",
    "    pl.col(\"names\").first().alias(\"first name\"),  # Scalar\n",
    "    (pl.mean(\"nrs\") * 10).alias(\"10xnrs\"),        # Scalar\n",
    ")"
   ]
  },
  {
   "cell_type": "code",
   "execution_count": 12,
   "id": "dd56fc9d-dd0a-466a-a8fc-ffdf06702f90",
   "metadata": {},
   "outputs": [
    {
     "data": {
      "text/html": [
       "<div><style>\n",
       ".dataframe > thead > tr,\n",
       ".dataframe > tbody > tr {\n",
       "  text-align: right;\n",
       "  white-space: pre-wrap;\n",
       "}\n",
       "</style>\n",
       "<small>shape: (5, 5)</small><table border=\"1\" class=\"dataframe\"><thead><tr><th>nrs</th><th>names</th><th>first name</th><th>pecents</th><th>10xnrs</th></tr><tr><td>i64</td><td>str</td><td>str</td><td>f64</td><td>f64</td></tr></thead><tbody><tr><td>11</td><td>null</td><td>&quot;foo&quot;</td><td>37.248716</td><td>27.5</td></tr><tr><td>11</td><td>&quot;egg&quot;</td><td>&quot;foo&quot;</td><td>2.337091</td><td>27.5</td></tr><tr><td>11</td><td>&quot;foo&quot;</td><td>&quot;foo&quot;</td><td>11.178078</td><td>27.5</td></tr><tr><td>11</td><td>&quot;ham&quot;</td><td>&quot;foo&quot;</td><td>37.932039</td><td>27.5</td></tr><tr><td>11</td><td>&quot;spam&quot;</td><td>&quot;foo&quot;</td><td>11.304075</td><td>27.5</td></tr></tbody></table></div>"
      ],
      "text/plain": [
       "shape: (5, 5)\n",
       "┌─────┬───────┬────────────┬───────────┬────────┐\n",
       "│ nrs ┆ names ┆ first name ┆ pecents   ┆ 10xnrs │\n",
       "│ --- ┆ ---   ┆ ---        ┆ ---       ┆ ---    │\n",
       "│ i64 ┆ str   ┆ str        ┆ f64       ┆ f64    │\n",
       "╞═════╪═══════╪════════════╪═══════════╪════════╡\n",
       "│ 11  ┆ null  ┆ foo        ┆ 37.248716 ┆ 27.5   │\n",
       "│ 11  ┆ egg   ┆ foo        ┆ 2.337091  ┆ 27.5   │\n",
       "│ 11  ┆ foo   ┆ foo        ┆ 11.178078 ┆ 27.5   │\n",
       "│ 11  ┆ ham   ┆ foo        ┆ 37.932039 ┆ 27.5   │\n",
       "│ 11  ┆ spam  ┆ foo        ┆ 11.304075 ┆ 27.5   │\n",
       "└─────┴───────┴────────────┴───────────┴────────┘"
      ]
     },
     "execution_count": 12,
     "metadata": {},
     "output_type": "execute_result"
    }
   ],
   "source": [
    "# example mixes Series-N and Series-1 Expression\n",
    "df.select(\n",
    "    pl.sum(\"nrs\"),                                                        # Scalar\n",
    "    pl.col(\"names\").sort(),                                               # Series[N]\n",
    "    pl.col(\"names\").first().alias(\"first name\"),                          # Scalar\n",
    "    (pl.col(\"random\") / pl.col(\"random\").sum() * 100).alias(\"pecents\"),   # Series[N] / Scalar => Series[N]\n",
    "    (pl.mean(\"nrs\") * 10).alias(\"10xnrs\"),                                # Scalar\n",
    ")"
   ]
  },
  {
   "cell_type": "markdown",
   "id": "70608177-d65e-4aac-9dc1-4d32fcf8ee6d",
   "metadata": {},
   "source": [
    "基于向量的广播机制，可以在单个表达式中结合使用 Series-N 表达式 和 Series-1 表达式，这种能力，要在SQL中表达出来，还是比较困难的。（**从这个角度来看，\n",
    "Polars的表达能力相比 SQL 更强大一些，两者的计算模型并不相同**）。"
   ]
  },
  {
   "cell_type": "markdown",
   "id": "a8e0c40f-ae55-4761-a895-f7af1c3ad528",
   "metadata": {},
   "source": [
    "#### 2) APIS\n",
    "\n",
    "`df.select( ... )`  # 仅选择部分列\n",
    "\n",
    "`df.with_columns( ... ) ` # 保留所有列，并创新新的列(如果列名重复，则覆盖掉原有的列)"
   ]
  },
  {
   "cell_type": "code",
   "execution_count": 15,
   "id": "468f6e76-2703-41a7-a2a8-89aeb0bfbca8",
   "metadata": {},
   "outputs": [
    {
     "data": {
      "text/html": [
       "<div><style>\n",
       ".dataframe > thead > tr,\n",
       ".dataframe > tbody > tr {\n",
       "  text-align: right;\n",
       "  white-space: pre-wrap;\n",
       "}\n",
       "</style>\n",
       "<small>shape: (5, 4)</small><table border=\"1\" class=\"dataframe\"><thead><tr><th>nrs</th><th>names</th><th>random</th><th>groups</th></tr><tr><td>i64</td><td>str</td><td>f64</td><td>str</td></tr></thead><tbody><tr><td>1</td><td>&quot;foo&quot;</td><td>2.23031</td><td>&quot;A&quot;</td></tr><tr><td>2</td><td>&quot;ham&quot;</td><td>2.23031</td><td>&quot;A&quot;</td></tr><tr><td>3</td><td>&quot;spam&quot;</td><td>2.23031</td><td>&quot;B&quot;</td></tr><tr><td>null</td><td>&quot;egg&quot;</td><td>2.23031</td><td>&quot;C&quot;</td></tr><tr><td>5</td><td>null</td><td>2.23031</td><td>&quot;B&quot;</td></tr></tbody></table></div>"
      ],
      "text/plain": [
       "shape: (5, 4)\n",
       "┌──────┬───────┬─────────┬────────┐\n",
       "│ nrs  ┆ names ┆ random  ┆ groups │\n",
       "│ ---  ┆ ---   ┆ ---     ┆ ---    │\n",
       "│ i64  ┆ str   ┆ f64     ┆ str    │\n",
       "╞══════╪═══════╪═════════╪════════╡\n",
       "│ 1    ┆ foo   ┆ 2.23031 ┆ A      │\n",
       "│ 2    ┆ ham   ┆ 2.23031 ┆ A      │\n",
       "│ 3    ┆ spam  ┆ 2.23031 ┆ B      │\n",
       "│ null ┆ egg   ┆ 2.23031 ┆ C      │\n",
       "│ 5    ┆ null  ┆ 2.23031 ┆ B      │\n",
       "└──────┴───────┴─────────┴────────┘"
      ]
     },
     "execution_count": 15,
     "metadata": {},
     "output_type": "execute_result"
    }
   ],
   "source": [
    "df.with_columns(\n",
    "    pl.col(\"random\").sum(),   # 没有取别名时，这个新的列的列明也叫做 random，因此，在结果中会覆盖掉原有 random 列。\n",
    ")"
   ]
  },
  {
   "cell_type": "code",
   "execution_count": 3,
   "id": "76167a97-66f4-4805-ac16-2cdcc63032b8",
   "metadata": {},
   "outputs": [
    {
     "ename": "ComputeError",
     "evalue": "Series length 4 doesn't match the DataFrame height of 5",
     "output_type": "error",
     "traceback": [
      "\u001B[0;31m---------------------------------------------------------------------------\u001B[0m",
      "\u001B[0;31mComputeError\u001B[0m                              Traceback (most recent call last)",
      "Cell \u001B[0;32mIn[3], line 1\u001B[0m\n\u001B[0;32m----> 1\u001B[0m \u001B[43mdf\u001B[49m\u001B[38;5;241;43m.\u001B[39;49m\u001B[43mselect\u001B[49m\u001B[43m(\u001B[49m\n\u001B[1;32m      2\u001B[0m \u001B[43m    \u001B[49m\u001B[43mpl\u001B[49m\u001B[38;5;241;43m.\u001B[39;49m\u001B[43mcol\u001B[49m\u001B[43m(\u001B[49m\u001B[38;5;124;43m\"\u001B[39;49m\u001B[38;5;124;43mnrs\u001B[39;49m\u001B[38;5;124;43m\"\u001B[39;49m\u001B[43m)\u001B[49m\u001B[38;5;241;43m.\u001B[39;49m\u001B[43mfilter\u001B[49m\u001B[43m(\u001B[49m\u001B[43mpl\u001B[49m\u001B[38;5;241;43m.\u001B[39;49m\u001B[43mcol\u001B[49m\u001B[43m(\u001B[49m\u001B[38;5;124;43m\"\u001B[39;49m\u001B[38;5;124;43mnames\u001B[39;49m\u001B[38;5;124;43m\"\u001B[39;49m\u001B[43m)\u001B[49m\u001B[38;5;241;43m.\u001B[39;49m\u001B[43mis_not_null\u001B[49m\u001B[43m(\u001B[49m\u001B[43m)\u001B[49m\u001B[43m)\u001B[49m\u001B[43m,\u001B[49m\n\u001B[1;32m      3\u001B[0m \u001B[43m    \u001B[49m\u001B[43mpl\u001B[49m\u001B[38;5;241;43m.\u001B[39;49m\u001B[43mcol\u001B[49m\u001B[43m(\u001B[49m\u001B[38;5;124;43m\"\u001B[39;49m\u001B[38;5;124;43mnames\u001B[39;49m\u001B[38;5;124;43m\"\u001B[39;49m\u001B[43m)\u001B[49m\u001B[43m,\u001B[49m\n\u001B[1;32m      4\u001B[0m \u001B[43m    \u001B[49m\u001B[43mpl\u001B[49m\u001B[38;5;241;43m.\u001B[39;49m\u001B[43mcol\u001B[49m\u001B[43m(\u001B[49m\u001B[38;5;124;43m\"\u001B[39;49m\u001B[38;5;124;43mrandom\u001B[39;49m\u001B[38;5;124;43m\"\u001B[39;49m\u001B[43m)\u001B[49m\u001B[38;5;241;43m.\u001B[39;49m\u001B[43msum\u001B[49m\u001B[43m(\u001B[49m\u001B[43m)\u001B[49m\u001B[38;5;241;43m.\u001B[39;49m\u001B[43malias\u001B[49m\u001B[43m(\u001B[49m\u001B[38;5;124;43m\"\u001B[39;49m\u001B[38;5;124;43mtotal\u001B[39;49m\u001B[38;5;124;43m\"\u001B[39;49m\u001B[43m)\u001B[49m\u001B[43m,\u001B[49m\n\u001B[1;32m      5\u001B[0m \u001B[43m    \u001B[49m\u001B[43mpl\u001B[49m\u001B[38;5;241;43m.\u001B[39;49m\u001B[43mcol\u001B[49m\u001B[43m(\u001B[49m\u001B[38;5;124;43m\"\u001B[39;49m\u001B[38;5;124;43mgroups\u001B[39;49m\u001B[38;5;124;43m\"\u001B[39;49m\u001B[43m)\u001B[49m\n\u001B[1;32m      6\u001B[0m \u001B[43m)\u001B[49m\n",
      "File \u001B[0;32m~/venvs/polars/lib/python3.12/site-packages/polars/dataframe/frame.py:8137\u001B[0m, in \u001B[0;36mDataFrame.select\u001B[0;34m(self, *exprs, **named_exprs)\u001B[0m\n\u001B[1;32m   8037\u001B[0m \u001B[38;5;28;01mdef\u001B[39;00m \u001B[38;5;21mselect\u001B[39m(\n\u001B[1;32m   8038\u001B[0m     \u001B[38;5;28mself\u001B[39m, \u001B[38;5;241m*\u001B[39mexprs: IntoExpr \u001B[38;5;241m|\u001B[39m Iterable[IntoExpr], \u001B[38;5;241m*\u001B[39m\u001B[38;5;241m*\u001B[39mnamed_exprs: IntoExpr\n\u001B[1;32m   8039\u001B[0m ) \u001B[38;5;241m-\u001B[39m\u001B[38;5;241m>\u001B[39m DataFrame:\n\u001B[1;32m   8040\u001B[0m \u001B[38;5;250m    \u001B[39m\u001B[38;5;124;03m\"\"\"\u001B[39;00m\n\u001B[1;32m   8041\u001B[0m \u001B[38;5;124;03m    Select columns from this DataFrame.\u001B[39;00m\n\u001B[1;32m   8042\u001B[0m \n\u001B[0;32m   (...)\u001B[0m\n\u001B[1;32m   8135\u001B[0m \u001B[38;5;124;03m    └───────────┘\u001B[39;00m\n\u001B[1;32m   8136\u001B[0m \u001B[38;5;124;03m    \"\"\"\u001B[39;00m\n\u001B[0;32m-> 8137\u001B[0m     \u001B[38;5;28;01mreturn\u001B[39;00m \u001B[38;5;28;43mself\u001B[39;49m\u001B[38;5;241;43m.\u001B[39;49m\u001B[43mlazy\u001B[49m\u001B[43m(\u001B[49m\u001B[43m)\u001B[49m\u001B[38;5;241;43m.\u001B[39;49m\u001B[43mselect\u001B[49m\u001B[43m(\u001B[49m\u001B[38;5;241;43m*\u001B[39;49m\u001B[43mexprs\u001B[49m\u001B[43m,\u001B[49m\u001B[43m \u001B[49m\u001B[38;5;241;43m*\u001B[39;49m\u001B[38;5;241;43m*\u001B[39;49m\u001B[43mnamed_exprs\u001B[49m\u001B[43m)\u001B[49m\u001B[38;5;241;43m.\u001B[39;49m\u001B[43mcollect\u001B[49m\u001B[43m(\u001B[49m\u001B[43m_eager\u001B[49m\u001B[38;5;241;43m=\u001B[39;49m\u001B[38;5;28;43;01mTrue\u001B[39;49;00m\u001B[43m)\u001B[49m\n",
      "File \u001B[0;32m~/venvs/polars/lib/python3.12/site-packages/polars/lazyframe/frame.py:1816\u001B[0m, in \u001B[0;36mLazyFrame.collect\u001B[0;34m(self, type_coercion, predicate_pushdown, projection_pushdown, simplify_expression, slice_pushdown, comm_subplan_elim, comm_subexpr_elim, no_optimization, streaming, background, _eager, **_kwargs)\u001B[0m\n\u001B[1;32m   1813\u001B[0m \u001B[38;5;66;03m# Only for testing purposes atm.\u001B[39;00m\n\u001B[1;32m   1814\u001B[0m callback \u001B[38;5;241m=\u001B[39m _kwargs\u001B[38;5;241m.\u001B[39mget(\u001B[38;5;124m\"\u001B[39m\u001B[38;5;124mpost_opt_callback\u001B[39m\u001B[38;5;124m\"\u001B[39m)\n\u001B[0;32m-> 1816\u001B[0m \u001B[38;5;28;01mreturn\u001B[39;00m wrap_df(\u001B[43mldf\u001B[49m\u001B[38;5;241;43m.\u001B[39;49m\u001B[43mcollect\u001B[49m\u001B[43m(\u001B[49m\u001B[43mcallback\u001B[49m\u001B[43m)\u001B[49m)\n",
      "\u001B[0;31mComputeError\u001B[0m: Series length 4 doesn't match the DataFrame height of 5"
     ]
    }
   ],
   "source": [
    "# the code not works\n",
    "df.select(\n",
    "    pl.col(\"nrs\").filter(pl.col(\"names\").is_not_null()),       # the series length is 4, not 5\n",
    "    pl.col(\"names\"),\n",
    "    pl.col(\"random\").sum().alias(\"total\"),\n",
    "    pl.col(\"groups\")\n",
    ")\n",
    "\n",
    "# ComputeError: Series length 4 doesn't match the DataFrame height of 5"
   ]
  },
  {
   "cell_type": "markdown",
   "id": "42d3d553-cc5b-4fb4-a0ae-a68c464d9717",
   "metadata": {},
   "source": [
    "这段代码无法正确执行：\n",
    "1. df 的长度为 5\n",
    "2. `df.select( pl.col(\"nrs\").filter( pl.col(\"names\").is_not_null() )` 返回的 Series 长度为4。Series-N 与 DataFrame 不匹配。\n",
    "这种情况是不能使用广播的方式进行对齐的，因此，这段代码无法正确执行。"
   ]
  },
  {
   "cell_type": "markdown",
   "id": "a79d37ca-3287-4a97-ab12-59b2af63d306",
   "metadata": {
    "jp-MarkdownHeadingCollapsed": true
   },
   "source": [
    "### 1.2 Filter Context\n",
    "\n",
    "Filter Context 的表达式求值为 boolean， 类似于 f: row -> boolean\n"
   ]
  },
  {
   "cell_type": "code",
   "execution_count": 16,
   "id": "99a5cfb5-5e09-48ff-b99b-2ce1ae762f07",
   "metadata": {},
   "outputs": [
    {
     "data": {
      "text/html": [
       "<div><style>\n",
       ".dataframe > thead > tr,\n",
       ".dataframe > tbody > tr {\n",
       "  text-align: right;\n",
       "  white-space: pre-wrap;\n",
       "}\n",
       "</style>\n",
       "<small>shape: (2, 4)</small><table border=\"1\" class=\"dataframe\"><thead><tr><th>nrs</th><th>names</th><th>random</th><th>groups</th></tr><tr><td>i64</td><td>str</td><td>f64</td><td>str</td></tr></thead><tbody><tr><td>3</td><td>&quot;spam&quot;</td><td>0.249306</td><td>&quot;B&quot;</td></tr><tr><td>5</td><td>null</td><td>0.252116</td><td>&quot;B&quot;</td></tr></tbody></table></div>"
      ],
      "text/plain": [
       "shape: (2, 4)\n",
       "┌─────┬───────┬──────────┬────────┐\n",
       "│ nrs ┆ names ┆ random   ┆ groups │\n",
       "│ --- ┆ ---   ┆ ---      ┆ ---    │\n",
       "│ i64 ┆ str   ┆ f64      ┆ str    │\n",
       "╞═════╪═══════╪══════════╪════════╡\n",
       "│ 3   ┆ spam  ┆ 0.249306 ┆ B      │\n",
       "│ 5   ┆ null  ┆ 0.252116 ┆ B      │\n",
       "└─────┴───────┴──────────┴────────┘"
      ]
     },
     "execution_count": 16,
     "metadata": {},
     "output_type": "execute_result"
    }
   ],
   "source": [
    "df.filter(pl.col(\"nrs\") > 2)"
   ]
  },
  {
   "cell_type": "code",
   "execution_count": 17,
   "id": "2404ac37-7bfe-46a5-b984-e6cbd8ced5b9",
   "metadata": {},
   "outputs": [
    {
     "data": {
      "text/html": [
       "<div><style>\n",
       ".dataframe > thead > tr,\n",
       ".dataframe > tbody > tr {\n",
       "  text-align: right;\n",
       "  white-space: pre-wrap;\n",
       "}\n",
       "</style>\n",
       "<small>shape: (5, 4)</small><table border=\"1\" class=\"dataframe\"><thead><tr><th>nrs</th><th>names</th><th>random</th><th>groups</th></tr><tr><td>i64</td><td>str</td><td>f64</td><td>str</td></tr></thead><tbody><tr><td>1</td><td>&quot;foo&quot;</td><td>0.830762</td><td>&quot;A&quot;</td></tr><tr><td>2</td><td>&quot;ham&quot;</td><td>0.052124</td><td>&quot;A&quot;</td></tr><tr><td>3</td><td>&quot;spam&quot;</td><td>0.249306</td><td>&quot;B&quot;</td></tr><tr><td>null</td><td>&quot;egg&quot;</td><td>0.846002</td><td>&quot;C&quot;</td></tr><tr><td>5</td><td>null</td><td>0.252116</td><td>&quot;B&quot;</td></tr></tbody></table></div>"
      ],
      "text/plain": [
       "shape: (5, 4)\n",
       "┌──────┬───────┬──────────┬────────┐\n",
       "│ nrs  ┆ names ┆ random   ┆ groups │\n",
       "│ ---  ┆ ---   ┆ ---      ┆ ---    │\n",
       "│ i64  ┆ str   ┆ f64      ┆ str    │\n",
       "╞══════╪═══════╪══════════╪════════╡\n",
       "│ 1    ┆ foo   ┆ 0.830762 ┆ A      │\n",
       "│ 2    ┆ ham   ┆ 0.052124 ┆ A      │\n",
       "│ 3    ┆ spam  ┆ 0.249306 ┆ B      │\n",
       "│ null ┆ egg   ┆ 0.846002 ┆ C      │\n",
       "│ 5    ┆ null  ┆ 0.252116 ┆ B      │\n",
       "└──────┴───────┴──────────┴────────┘"
      ]
     },
     "execution_count": 17,
     "metadata": {},
     "output_type": "execute_result"
    }
   ],
   "source": [
    "df.filter(pl.col(\"random\").sum() > 1)"
   ]
  },
  {
   "cell_type": "markdown",
   "id": "4822cf7a-33ce-47ff-b8db-aa81b2d6d730",
   "metadata": {},
   "source": [
    "***需要补充分析***\n",
    "\n",
    "在 Filter 中也存在 Series-N 和 Series-1 的表达式问题，可以理解为：filter 是计算出一个 Series-N[Boolean]，表达式的每一个部分或者求值为：Series-1（广播）或者 Series-N。\n",
    "当结合一些复杂的表达式时，例如 a and b or c，其中 a,b, c 可能是 Series-N， 也可能是 Series-1.\n",
    "求值方式： 1. 先对所有基础的 Logic Expression 进行求值，其或者为 Series-N, 或者为 Series-1。 \n",
    "2. 广播后，再求值 Series-N"
   ]
  },
  {
   "cell_type": "markdown",
   "id": "ea64b1cf-649d-4bf3-937c-a1a895fbedbe",
   "metadata": {},
   "source": [
    "### 1.3 Aggragation Context\n",
    "\n",
    "在 `group_by`之后， DataFrame 会转化为 GroupBy， agg 操作会再次将 GroupBy 转换为 DataFrame。\n",
    "\n",
    "每个 agg 表达式的上下文是单个分组， 其返回值是 Series-1。 如果某个表达式求值为 Series-N，将最后转换为 Series-1。（大部分是一个字符串拼接的操作）"
   ]
  },
  {
   "cell_type": "code",
   "execution_count": 23,
   "id": "e1b5d572-f639-4493-bf4c-4c324226a5dd",
   "metadata": {},
   "outputs": [
    {
     "data": {
      "text/html": [
       "<div><style>\n",
       ".dataframe > thead > tr,\n",
       ".dataframe > tbody > tr {\n",
       "  text-align: right;\n",
       "  white-space: pre-wrap;\n",
       "}\n",
       "</style>\n",
       "<small>shape: (3, 4)</small><table border=\"1\" class=\"dataframe\"><thead><tr><th>groups</th><th>nrs</th><th>random</th><th>names</th></tr><tr><td>str</td><td>list[i64]</td><td>list[f64]</td><td>list[str]</td></tr></thead><tbody><tr><td>&quot;A&quot;</td><td>[1, 2]</td><td>[0.830762, 0.052124]</td><td>[&quot;foo&quot;, &quot;ham&quot;]</td></tr><tr><td>&quot;C&quot;</td><td>[null]</td><td>[0.846002]</td><td>[&quot;egg&quot;]</td></tr><tr><td>&quot;B&quot;</td><td>[3, 5]</td><td>[0.249306, 0.252116]</td><td>[&quot;spam&quot;, null]</td></tr></tbody></table></div>"
      ],
      "text/plain": [
       "shape: (3, 4)\n",
       "┌────────┬───────────┬──────────────────────┬────────────────┐\n",
       "│ groups ┆ nrs       ┆ random               ┆ names          │\n",
       "│ ---    ┆ ---       ┆ ---                  ┆ ---            │\n",
       "│ str    ┆ list[i64] ┆ list[f64]            ┆ list[str]      │\n",
       "╞════════╪═══════════╪══════════════════════╪════════════════╡\n",
       "│ A      ┆ [1, 2]    ┆ [0.830762, 0.052124] ┆ [\"foo\", \"ham\"] │\n",
       "│ C      ┆ [null]    ┆ [0.846002]           ┆ [\"egg\"]        │\n",
       "│ B      ┆ [3, 5]    ┆ [0.249306, 0.252116] ┆ [\"spam\", null] │\n",
       "└────────┴───────────┴──────────────────────┴────────────────┘"
      ]
     },
     "execution_count": 23,
     "metadata": {},
     "output_type": "execute_result"
    }
   ],
   "source": [
    "df.group_by(\"groups\").agg(\n",
    "    pl.col(\"nrs\"),  \n",
    "    pl.col(\"random\"), \n",
    "    pl.col(\"names\"),\n",
    ")"
   ]
  },
  {
   "cell_type": "markdown",
   "id": "89e18131-ad41-472b-aeb4-900cb5168270",
   "metadata": {},
   "source": [
    "在 group_by 之后的 DF 其上下文为 List[(key, rows)] 的形式，在这个例子中，我们没有进行聚合操作，因此，返回的结果是每个组中的字段的一个列表形式。这个在实际中意义不大，因为数据量很大时，这个值会很长。但在这个教程中，可以帮助理解后续的聚合函数如何工作。"
   ]
  },
  {
   "cell_type": "code",
   "execution_count": 36,
   "id": "3f071bdf-c9a9-48eb-a8d2-5a18ac1a400c",
   "metadata": {},
   "outputs": [
    {
     "data": {
      "text/html": [
       "<div><style>\n",
       ".dataframe > thead > tr,\n",
       ".dataframe > tbody > tr {\n",
       "  text-align: right;\n",
       "  white-space: pre-wrap;\n",
       "}\n",
       "</style>\n",
       "<small>shape: (3, 10)</small><table border=\"1\" class=\"dataframe\"><thead><tr><th>groups</th><th>nrs</th><th>random</th><th>random_count</th><th>random_hasname</th><th>random_sum</th><th>all nrs</th><th>reversed names</th><th>hasname_percents</th><th>random_hasname_tailer</th></tr><tr><td>str</td><td>i64</td><td>list[f64]</td><td>u32</td><td>list[f64]</td><td>f64</td><td>list[i64]</td><td>list[str]</td><td>list[f64]</td><td>list[f64]</td></tr></thead><tbody><tr><td>&quot;C&quot;</td><td>0</td><td>[0.846002]</td><td>1</td><td>[0.846002]</td><td>0.846002</td><td>[null]</td><td>[&quot;egg&quot;]</td><td>[100.0]</td><td>[]</td></tr><tr><td>&quot;B&quot;</td><td>8</td><td>[0.249306, 0.252116]</td><td>2</td><td>[0.249306]</td><td>0.249306</td><td>[3, 5]</td><td>[null, &quot;spam&quot;]</td><td>[49.719785]</td><td>[0.249306]</td></tr><tr><td>&quot;A&quot;</td><td>3</td><td>[0.830762, 0.052124]</td><td>2</td><td>[0.830762, 0.052124]</td><td>0.882886</td><td>[1, 2]</td><td>[&quot;ham&quot;, &quot;foo&quot;]</td><td>[94.096138, 5.903862]</td><td>[0.052124]</td></tr></tbody></table></div>"
      ],
      "text/plain": [
       "shape: (3, 10)\n",
       "┌────────┬─────┬─────────────┬─────────────┬───┬───────────┬─────────────┬────────────┬────────────┐\n",
       "│ groups ┆ nrs ┆ random      ┆ random_coun ┆ … ┆ all nrs   ┆ reversed    ┆ hasname_pe ┆ random_has │\n",
       "│ ---    ┆ --- ┆ ---         ┆ t           ┆   ┆ ---       ┆ names       ┆ rcents     ┆ name_taile │\n",
       "│ str    ┆ i64 ┆ list[f64]   ┆ ---         ┆   ┆ list[i64] ┆ ---         ┆ ---        ┆ r          │\n",
       "│        ┆     ┆             ┆ u32         ┆   ┆           ┆ list[str]   ┆ list[f64]  ┆ ---        │\n",
       "│        ┆     ┆             ┆             ┆   ┆           ┆             ┆            ┆ list[f64]  │\n",
       "╞════════╪═════╪═════════════╪═════════════╪═══╪═══════════╪═════════════╪════════════╪════════════╡\n",
       "│ C      ┆ 0   ┆ [0.846002]  ┆ 1           ┆ … ┆ [null]    ┆ [\"egg\"]     ┆ [100.0]    ┆ []         │\n",
       "│ B      ┆ 8   ┆ [0.249306,  ┆ 2           ┆ … ┆ [3, 5]    ┆ [null,      ┆ [49.719785 ┆ [0.249306] │\n",
       "│        ┆     ┆ 0.252116]   ┆             ┆   ┆           ┆ \"spam\"]     ┆ ]          ┆            │\n",
       "│ A      ┆ 3   ┆ [0.830762,  ┆ 2           ┆ … ┆ [1, 2]    ┆ [\"ham\",     ┆ [94.096138 ┆ [0.052124] │\n",
       "│        ┆     ┆ 0.052124]   ┆             ┆   ┆           ┆ \"foo\"]      ┆ ,          ┆            │\n",
       "│        ┆     ┆             ┆             ┆   ┆           ┆             ┆ 5.903862]  ┆            │\n",
       "└────────┴─────┴─────────────┴─────────────┴───┴───────────┴─────────────┴────────────┴────────────┘"
      ]
     },
     "execution_count": 36,
     "metadata": {},
     "output_type": "execute_result"
    }
   ],
   "source": [
    "df.group_by(\"groups\").agg(\n",
    "    pl.sum(\"nrs\"),                                                                      # sum nrs by groups\n",
    "    pl.col(\"random\"),\n",
    "    pl.col(\"random\").count().alias(\"random_count\"),                                            # count group members\n",
    "    pl.col(\"random\").filter(pl.col(\"names\").is_not_null()).alias(\"random_hasname\"),\n",
    "    pl.col(\"random\").filter(pl.col(\"names\").is_not_null()).sum().name.suffix(\"_sum\"),   # sum random where name != null\n",
    "    pl.col(\"nrs\").alias(\"all nrs\"),                                                     # Series-N 会自动转换为 Series-1\n",
    "    pl.col(\"names\").reverse().alias(\"reversed names\"),                                  # Series-N 会自动转换为 Series-1,\n",
    "    (pl.col(\"random\").filter(pl.col(\"names\").is_not_null()) / \n",
    "     pl.col(\"random\").sum() * 100\n",
    "    ).alias(\"hasname_percents\"),                                                        # 比较复杂的表达式 \n",
    "    pl.col(\"random\").filter(pl.col(\"names\").is_not_null())\n",
    "      .filter(pl.col(\"nrs\") >= 2).alias(\"random_hasname_tailer\")                        # 理解 filter \n",
    ")"
   ]
  },
  {
   "cell_type": "markdown",
   "id": "ffcb8590-bab1-4c74-befb-1119baebeb8e",
   "metadata": {},
   "source": [
    "这个示例中有几个Expression的理解会比较复杂，需要理解 Series-N 和 Series-1 的计算过程。 \n",
    "1. `pl.sum(\"nrs\")` 在当前分组中，求值为 Series-1\n",
    "2. `pl.col(\"random\").filter(pl.col(\"names\").is_not_null()).sum().name.suffix(\"_sum\")`\n",
    "    1.  `X = pl.col(\"random\")` 求值为 Series-N\n",
    "    2.  `Y = X.filter(pl.col(\"names\").is_not_null())` 求值为 Series-N\n",
    "    3.  `Y.sum()` 求值为 Series-1\n",
    "3. `pl.col(\"random\").filter(pl.col(\"names\").is_not_null()).filter(pl.col(\"nrs\") >= 2).alias(\"random_hasname_tailer\") `\n",
    "    1.  `X = pl.col(\"random\")`: Series-N\n",
    "    2.  `Y = X.filter(pl.col(\"names\").is_not_null())` : X 的环境中不仅仅包括 random列，也包括了其他的列。\n",
    "    3.  `Z = Y.filter(pl.col(\"nrs\") >= 2)`  : Z：从Y 中派生出来，Y 中也包含了其他的列。\n",
    "  \n",
    "这个 filter 的上下文确实非常强大，后续在阅读代码时，需要理解这个执行的逻辑。"
   ]
  },
  {
   "cell_type": "markdown",
   "id": "d826688c-0a4f-4a7f-8ece-e5fe4ec409b4",
   "metadata": {},
   "source": [
    "## 2. Expressions"
   ]
  },
  {
   "cell_type": "code",
   "execution_count": 5,
   "id": "6638b32c-e71c-4c4f-98cb-09883c14e727",
   "metadata": {},
   "outputs": [
    {
     "data": {
      "text/html": [
       "<div><style>\n",
       ".dataframe > thead > tr,\n",
       ".dataframe > tbody > tr {\n",
       "  text-align: right;\n",
       "  white-space: pre-wrap;\n",
       "}\n",
       "</style>\n",
       "<small>shape: (5, 4)</small><table border=\"1\" class=\"dataframe\"><thead><tr><th>nrs</th><th>names</th><th>random</th><th>groups</th></tr><tr><td>i64</td><td>str</td><td>f64</td><td>str</td></tr></thead><tbody><tr><td>1</td><td>&quot;foo&quot;</td><td>0.332095</td><td>&quot;A&quot;</td></tr><tr><td>2</td><td>&quot;ham&quot;</td><td>0.807228</td><td>&quot;A&quot;</td></tr><tr><td>3</td><td>&quot;spam&quot;</td><td>0.174601</td><td>&quot;B&quot;</td></tr><tr><td>null</td><td>&quot;egg&quot;</td><td>0.839158</td><td>&quot;C&quot;</td></tr><tr><td>5</td><td>null</td><td>0.498681</td><td>&quot;B&quot;</td></tr></tbody></table></div>"
      ],
      "text/plain": [
       "shape: (5, 4)\n",
       "┌──────┬───────┬──────────┬────────┐\n",
       "│ nrs  ┆ names ┆ random   ┆ groups │\n",
       "│ ---  ┆ ---   ┆ ---      ┆ ---    │\n",
       "│ i64  ┆ str   ┆ f64      ┆ str    │\n",
       "╞══════╪═══════╪══════════╪════════╡\n",
       "│ 1    ┆ foo   ┆ 0.332095 ┆ A      │\n",
       "│ 2    ┆ ham   ┆ 0.807228 ┆ A      │\n",
       "│ 3    ┆ spam  ┆ 0.174601 ┆ B      │\n",
       "│ null ┆ egg   ┆ 0.839158 ┆ C      │\n",
       "│ 5    ┆ null  ┆ 0.498681 ┆ B      │\n",
       "└──────┴───────┴──────────┴────────┘"
      ]
     },
     "execution_count": 5,
     "metadata": {},
     "output_type": "execute_result"
    }
   ],
   "source": [
    "df"
   ]
  },
  {
   "cell_type": "code",
   "execution_count": 6,
   "id": "9ef3b38a-08cd-4d72-8d8e-765cedf58f96",
   "metadata": {},
   "outputs": [
    {
     "name": "stdout",
     "output_type": "stream",
     "text": [
      "shape: (3, 5)\n",
      "┌────────┬─────┬───────┬────────────┬────────────────┐\n",
      "│ groups ┆ nrs ┆ count ┆ random_sum ┆ reversed names │\n",
      "│ ---    ┆ --- ┆ ---   ┆ ---        ┆ ---            │\n",
      "│ str    ┆ i64 ┆ u32   ┆ f64        ┆ list[str]      │\n",
      "╞════════╪═════╪═══════╪════════════╪════════════════╡\n",
      "│ A      ┆ 3   ┆ 2     ┆ 1.139323   ┆ [\"ham\", \"foo\"] │\n",
      "│ C      ┆ 0   ┆ 1     ┆ 0.839158   ┆ [\"egg\"]        │\n",
      "│ B      ┆ 8   ┆ 2     ┆ 0.174601   ┆ [null, \"spam\"] │\n",
      "└────────┴─────┴───────┴────────────┴────────────────┘\n"
     ]
    }
   ],
   "source": [
    "out = df.group_by(\"groups\").agg(\n",
    "    pl.sum(\"nrs\"),  # sum nrs by groups\n",
    "    pl.col(\"random\").count().alias(\"count\"),  # count group members\n",
    "    # sum random where name != null\n",
    "    pl.col(\"random\").filter(pl.col(\"names\").is_not_null()).sum().name.suffix(\"_sum\"),\n",
    "    pl.col(\"names\").reverse().alias(\"reversed names\"),\n",
    ")\n",
    "print(out)"
   ]
  },
  {
   "cell_type": "code",
   "execution_count": 8,
   "id": "9ec42ef3-4280-4391-be15-afd51c30a68e",
   "metadata": {},
   "outputs": [
    {
     "data": {
      "text/html": [
       "<div><style>\n",
       ".dataframe > thead > tr,\n",
       ".dataframe > tbody > tr {\n",
       "  text-align: right;\n",
       "  white-space: pre-wrap;\n",
       "}\n",
       "</style>\n",
       "<small>shape: (2, 1)</small><table border=\"1\" class=\"dataframe\"><thead><tr><th>names</th></tr><tr><td>str</td></tr></thead><tbody><tr><td>&quot;spam&quot;</td></tr><tr><td>null</td></tr></tbody></table></div>"
      ],
      "text/plain": [
       "shape: (2, 1)\n",
       "┌───────┐\n",
       "│ names │\n",
       "│ ---   │\n",
       "│ str   │\n",
       "╞═══════╡\n",
       "│ spam  │\n",
       "│ null  │\n",
       "└───────┘"
      ]
     },
     "execution_count": 8,
     "metadata": {},
     "output_type": "execute_result"
    }
   ],
   "source": [
    "df.select( pl.col(\"names\").filter( pl.col(\"nrs\") >= 3 ) )"
   ]
  },
  {
   "cell_type": "code",
   "execution_count": 10,
   "id": "c925149d-39db-4327-9c30-e3020ea5f521",
   "metadata": {},
   "outputs": [
    {
     "data": {
      "text/html": [
       "<div><style>\n",
       ".dataframe > thead > tr,\n",
       ".dataframe > tbody > tr {\n",
       "  text-align: right;\n",
       "  white-space: pre-wrap;\n",
       "}\n",
       "</style>\n",
       "<small>shape: (2, 1)</small><table border=\"1\" class=\"dataframe\"><thead><tr><th>names</th></tr><tr><td>str</td></tr></thead><tbody><tr><td>&quot;spam&quot;</td></tr><tr><td>null</td></tr></tbody></table></div>"
      ],
      "text/plain": [
       "shape: (2, 1)\n",
       "┌───────┐\n",
       "│ names │\n",
       "│ ---   │\n",
       "│ str   │\n",
       "╞═══════╡\n",
       "│ spam  │\n",
       "│ null  │\n",
       "└───────┘"
      ]
     },
     "execution_count": 10,
     "metadata": {},
     "output_type": "execute_result"
    }
   ],
   "source": [
    "df.filter( pl.col(\"nrs\") >=3 ).select( pl.col(\"names\") )"
   ]
  },
  {
   "cell_type": "code",
   "execution_count": 14,
   "id": "1c925f2a-6690-489a-a943-1342badaa605",
   "metadata": {},
   "outputs": [
    {
     "name": "stdout",
     "output_type": "stream",
     "text": [
      "shape: (3, 5)\n",
      "┌────────┬─────┬───────┬────────────┬────────────────┐\n",
      "│ groups ┆ nrs ┆ count ┆ random_sum ┆ reversed names │\n",
      "│ ---    ┆ --- ┆ ---   ┆ ---        ┆ ---            │\n",
      "│ str    ┆ i64 ┆ u32   ┆ f64        ┆ list[str]      │\n",
      "╞════════╪═════╪═══════╪════════════╪════════════════╡\n",
      "│ A      ┆ 3   ┆ 2     ┆ 1.139323   ┆ [\"ham\", \"foo\"] │\n",
      "│ C      ┆ 0   ┆ 1     ┆ 0.839158   ┆ [\"egg\"]        │\n",
      "│ B      ┆ 8   ┆ 2     ┆ 0.174601   ┆ [null, \"spam\"] │\n",
      "└────────┴─────┴───────┴────────────┴────────────────┘\n"
     ]
    }
   ],
   "source": [
    "out = df.group_by(\"groups\").agg(\n",
    "    pl.col(\"nrs\").sum(),  # sum nrs by groups\n",
    "    pl.count(\"random\").alias(\"count\"),  # count group members\n",
    "    # sum random where name != null\n",
    "    pl.col(\"random\").filter(pl.col(\"names\").is_not_null()).sum().name.suffix(\"_sum\"),\n",
    "    pl.col(\"names\").reverse().alias(\"reversed names\"),\n",
    ")\n",
    "print(out)"
   ]
  },
  {
   "cell_type": "code",
   "execution_count": null,
   "id": "f04d1ca6-d1fd-4094-8581-f38deb45dd17",
   "metadata": {},
   "outputs": [],
   "source": []
  },
  {
   "cell_type": "code",
   "execution_count": 6,
   "id": "dc7e27b3-0320-49c2-ac0d-c343f65aba0b",
   "metadata": {},
   "outputs": [
    {
     "data": {
      "text/html": [
       "<div><style>\n",
       ".dataframe > thead > tr,\n",
       ".dataframe > tbody > tr {\n",
       "  text-align: right;\n",
       "  white-space: pre-wrap;\n",
       "}\n",
       "</style>\n",
       "<small>shape: (365, 1)</small><table border=\"1\" class=\"dataframe\"><thead><tr><th>time</th></tr><tr><td>date</td></tr></thead><tbody><tr><td>2021-01-01</td></tr><tr><td>2021-01-02</td></tr><tr><td>2021-01-03</td></tr><tr><td>2021-01-04</td></tr><tr><td>2021-01-05</td></tr><tr><td>&hellip;</td></tr><tr><td>2021-12-27</td></tr><tr><td>2021-12-28</td></tr><tr><td>2021-12-29</td></tr><tr><td>2021-12-30</td></tr><tr><td>2021-12-31</td></tr></tbody></table></div>"
      ],
      "text/plain": [
       "shape: (365, 1)\n",
       "┌────────────┐\n",
       "│ time       │\n",
       "│ ---        │\n",
       "│ date       │\n",
       "╞════════════╡\n",
       "│ 2021-01-01 │\n",
       "│ 2021-01-02 │\n",
       "│ 2021-01-03 │\n",
       "│ 2021-01-04 │\n",
       "│ 2021-01-05 │\n",
       "│ …          │\n",
       "│ 2021-12-27 │\n",
       "│ 2021-12-28 │\n",
       "│ 2021-12-29 │\n",
       "│ 2021-12-30 │\n",
       "│ 2021-12-31 │\n",
       "└────────────┘"
      ]
     },
     "execution_count": 6,
     "metadata": {},
     "output_type": "execute_result"
    }
   ],
   "source": [
    "from datetime import date ;\n",
    "df2 = (\n",
    "    pl.date_range(\n",
    "        start=date(2021, 1, 1),\n",
    "        end=date(2021, 12, 31),\n",
    "        interval=\"1d\",\n",
    "        eager=True,\n",
    "    )\n",
    "    .alias(\"time\")\n",
    "    .to_frame()\n",
    ")\n",
    "\n",
    "df2"
   ]
  },
  {
   "cell_type": "markdown",
   "id": "ab685090-12a1-45cb-97d8-daed05c8bb89",
   "metadata": {},
   "source": [
    "## 3. Eager or Lazy"
   ]
  },
  {
   "cell_type": "markdown",
   "id": "efbf8e2a-a38f-4f5a-9a50-9d7cadc1bb26",
   "metadata": {},
   "source": [
    "## 4. Transformation"
   ]
  },
  {
   "cell_type": "markdown",
   "id": "a0eec7f8-4da4-4545-b207-da9280dfef97",
   "metadata": {},
   "source": [
    "## 5. Operator and Functions"
   ]
  },
  {
   "cell_type": "code",
   "execution_count": null,
   "id": "cb70f118-a336-43f5-8b18-4430d9171d97",
   "metadata": {},
   "outputs": [],
   "source": []
  },
  {
   "cell_type": "raw",
   "id": "3cb0c60f-bdf8-4f42-b003-034b682dc7c1",
   "metadata": {},
   "source": [
    "## Misc: Why an Expression based API other than SQL in Polars?\n",
    "\n",
    "The short answer:\n",
    "1. Is Polars DSL a superset of SQL? Many DSL capabilities can't be expressed in SQL.\n",
    "2. What capabilities can be expressed by SQL but not by Polars DSL?\n",
    "\n",
    "In terms of ease of use, SQL is undoubtedly a more concise expression, while DSL is slightly redundant. However, for complex logic, SQL may use complex nesting to represent it, while DSLs can be more concise in this regard.\n",
    "\n",
    "### TODO\n",
    "1. [ ] Supplemented the analysis of Polars' execution process and performance optimization strategy\n",
    "2. [ ] Is it OK to further test the JOIN performance of Polars?\n",
    "3. [ ] How to read Polars' query plan\n",
    "4. [ ] Think about how to optimize further data: for example, how to optimize indexed datasets (including min-max indexes, bloom indexes, bitmap indexes, etc.)\n",
    "5. [ ] What can polars do in our multidimensional model queries?\n",
    "   \n",
    "        1. Use polars to query the wide table and cache it in a parquet file.\n",
    "        2. 查询时，从缓存的parquet 中读取数据。\n",
    "        3. aggregate 查询时，自动缓存聚合的结果数据。\n",
    "        4. 使用 LRU 机制管理缓存数据。"
   ]
  }
 ],
 "metadata": {
  "kernelspec": {
   "display_name": "Python 3 (ipykernel)",
   "language": "python",
   "name": "python3"
  },
  "language_info": {
   "codemirror_mode": {
    "name": "ipython",
    "version": 3
   },
   "file_extension": ".py",
   "mimetype": "text/x-python",
   "name": "python",
   "nbconvert_exporter": "python",
   "pygments_lexer": "ipython3",
   "version": "3.12.3"
  }
 },
 "nbformat": 4,
 "nbformat_minor": 5
}
